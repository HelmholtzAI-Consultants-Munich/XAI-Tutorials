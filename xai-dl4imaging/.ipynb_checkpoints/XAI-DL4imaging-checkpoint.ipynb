{
 "cells": [
  {
   "cell_type": "markdown",
   "id": "78ff4283",
   "metadata": {},
   "source": [
    "# Explainable AI in Deep Learning for Imaging Applications\n",
    "\n",
    "In this tutorial we will see some ...."
   ]
  },
  {
   "cell_type": "code",
   "execution_count": null,
   "id": "c8b905f1",
   "metadata": {},
   "outputs": [],
   "source": [
    "import torch\n",
    "# import ..."
   ]
  },
  {
   "cell_type": "markdown",
   "id": "22809b9b",
   "metadata": {},
   "source": [
    "Throughout this tutorial we will be using the ... model. Take a minute now to look at the model's architecture\n",
    "\n",
    "*Find out more:* Here was the original paper for the ..."
   ]
  },
  {
   "cell_type": "markdown",
   "id": "6e015c47",
   "metadata": {},
   "source": [
    "## Feature Visualisation\n",
    "\n",
    "One of the first approaches for understanding why your network outputs ....\n",
    "\n",
    "Let's try this for our model which has been trained on the ... dataset for ..."
   ]
  },
  {
   "cell_type": "code",
   "execution_count": 1,
   "id": "681456a8",
   "metadata": {},
   "outputs": [],
   "source": [
    "# practical exercise"
   ]
  },
  {
   "cell_type": "markdown",
   "id": "20f9fab4",
   "metadata": {},
   "source": [
    "## Saliency maps\n",
    "\n",
    "Here,.."
   ]
  },
  {
   "cell_type": "markdown",
   "id": "9af2948e",
   "metadata": {},
   "source": [
    "Link to Grad-CAM demo: www...."
   ]
  },
  {
   "cell_type": "code",
   "execution_count": 2,
   "id": "70a0b9df",
   "metadata": {},
   "outputs": [],
   "source": [
    "# practical exercise - GradCAM"
   ]
  },
  {
   "cell_type": "markdown",
   "id": "65d195da",
   "metadata": {},
   "source": [
    "What did we learn? Take this short **questionnaire** to revise what you have learned in our session today!"
   ]
  },
  {
   "cell_type": "markdown",
   "id": "c91c6975",
   "metadata": {},
   "source": [
    "## Eager to try out more? Check out Adversarial Learning\n"
   ]
  },
  {
   "cell_type": "code",
   "execution_count": 3,
   "id": "ec72ca9f",
   "metadata": {},
   "outputs": [],
   "source": [
    "# exercise"
   ]
  },
  {
   "cell_type": "markdown",
   "id": "4650deb2",
   "metadata": {},
   "source": [
    "## References\n",
    "\n",
    "https://christophm.github.io/interpretable-ml-book/neural-networks.html"
   ]
  },
  {
   "cell_type": "code",
   "execution_count": null,
   "id": "12352193",
   "metadata": {},
   "outputs": [],
   "source": []
  }
 ],
 "metadata": {
  "kernelspec": {
   "display_name": "Python 3 (ipykernel)",
   "language": "python",
   "name": "python3"
  },
  "language_info": {
   "codemirror_mode": {
    "name": "ipython",
    "version": 3
   },
   "file_extension": ".py",
   "mimetype": "text/x-python",
   "name": "python",
   "nbconvert_exporter": "python",
   "pygments_lexer": "ipython3",
   "version": "3.7.11"
  }
 },
 "nbformat": 4,
 "nbformat_minor": 5
}
