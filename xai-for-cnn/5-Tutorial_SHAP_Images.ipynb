{
 "cells": [
  {
   "cell_type": "markdown",
   "metadata": {},
   "source": [
    "![logo](https://github.com/HelmholtzAI-Consultants-Munich/XAI-Tutorials/blob/main/docs/source/_figures/Helmholtz-AI.png?raw=true)"
   ]
  },
  {
   "cell_type": "markdown",
   "metadata": {},
   "source": [
    "# Model-Agnostic Interpretation with SHAP for Image Analysis\n",
    "\n",
    "In this Notebook, we will demonstrate how to use the SHapley Additive exPlanations (SHAP) method and interpret its results for image classification models.\n",
    "\n",
    "--------"
   ]
  },
  {
   "cell_type": "markdown",
   "metadata": {},
   "source": [
    "## Getting Started\n",
    "\n",
    "### Setup Colab environment\n",
    "\n",
    "If you installed the packages and requirements on your machine, you can skip this section and start from the import section.\n",
    "Otherwise, you can follow and execute the tutorial on your browser. To start working on the notebook, click on the following button. This will open this page in the Colab environment, and you will be able to execute the code on your own.\n",
    "\n",
    "<a href=\"https://colab.research.google.com/github/HelmholtzAI-Consultants-Munich/XAI-Tutorials/blob/main/xai-for-cnn/5-Tutorial_SHAP_Images.ipynb\" target=\"_parent\"><img src=\"https://colab.research.google.com/assets/colab-badge.svg\" alt=\"Open In Colab\"/></a>\n"
   ]
  },
  {
   "cell_type": "markdown",
   "metadata": {},
   "source": [
    "Now that you opened the notebook in Google Colab, follow the next step:\n",
    "\n",
    "1. Run this cell to connect your Google Drive to Colab and install packages\n",
    "2. Allow this notebook to access your Google Drive files. Click on 'Yes', and select your account.\n",
    "3. \"Google Drive for desktop wants to access your Google Account\". Click on 'Allow'.\n",
    "   \n",
    "At this point, a folder has been created in your Drive, and you can navigate it through the lefthand panel in Colab. You might also have received an email that informs you about the access on your Google Drive."
   ]
  },
  {
   "cell_type": "code",
   "execution_count": 5,
   "metadata": {},
   "outputs": [],
   "source": [
    "# Mount drive folder to dbe abale to download repo\n",
    "# from google.colab import drive\n",
    "# drive.mount('/content/drive')\n",
    "\n",
    "# Switch to correct folder'\n",
    "# %cd /content/drive/MyDrive"
   ]
  },
  {
   "cell_type": "code",
   "execution_count": null,
   "metadata": {},
   "outputs": [],
   "source": [
    "# Don't run this cell if you already cloned the repo \n",
    "# %rm -r XAI-Tutorials\n",
    "# !git clone --branch main https://github.com/HelmholtzAI-Consultants-Munich/XAI-Tutorials.git"
   ]
  },
  {
   "cell_type": "code",
   "execution_count": null,
   "metadata": {},
   "outputs": [],
   "source": [
    "# %cd XAI-Tutorials\n",
    "# !pip install -r requirements_xai-for-cnn.txt\n",
    "# %cd xai-for-cnn"
   ]
  },
  {
   "cell_type": "markdown",
   "metadata": {},
   "source": [
    "### Imports\n",
    "\n",
    "Let's start with importing all required Python packages."
   ]
  },
  {
   "cell_type": "code",
   "execution_count": 8,
   "metadata": {},
   "outputs": [],
   "source": [
    "import shap\n",
    "import numpy as np\n",
    "\n",
    "import sys\n",
    "sys.path.append('../models')\n",
    "import model_mnist  "
   ]
  },
  {
   "cell_type": "markdown",
   "metadata": {},
   "source": [
    "We fix the random seeds to ensure reproducible results, as we work with (pseudo) random numbers."
   ]
  },
  {
   "cell_type": "code",
   "execution_count": 9,
   "metadata": {},
   "outputs": [],
   "source": [
    "# assert reproducible random number generation\n",
    "seed = 1\n",
    "np.random.seed(seed)"
   ]
  },
  {
   "cell_type": "markdown",
   "metadata": {},
   "source": [
    "--------"
   ]
  },
  {
   "cell_type": "markdown",
   "metadata": {},
   "source": [
    "## Data and Model Loading: The MNIST Dataset\n",
    "\n",
    "Let's use the MNIST dataset to see how SHAP can be used to explain image classification models. The MNIST dataset contains images of handwritten digits with numbers from 0 to 9. \n",
    "\n",
    "<center><img src=\"https://github.com/HelmholtzAI-Consultants-Munich/XAI-Tutorials/blob/main/docs/source/_figures/dataset_digits.png?raw=true\" width=\"700\" /></center>"
   ]
  },
  {
   "cell_type": "markdown",
   "metadata": {},
   "source": [
    "Let's train a simple 2D Convolutional Neural Network (CNN) for a small number of epochs on our training images.\n",
    "\n",
    "*Note: this is a very basic model to showcase how SHAP works for image classification. To know more about it, check out [*model_mnist.py*](../models/model_mnist.py).*"
   ]
  },
  {
   "cell_type": "code",
   "execution_count": 10,
   "metadata": {},
   "outputs": [
    {
     "name": "stderr",
     "output_type": "stream",
     "text": [
      "100%|██████████| 9.91M/9.91M [00:01<00:00, 8.58MB/s]\n",
      "100%|██████████| 28.9k/28.9k [00:00<00:00, 295kB/s]\n",
      "100%|██████████| 1.65M/1.65M [00:00<00:00, 2.74MB/s]\n",
      "100%|██████████| 4.54k/4.54k [00:00<00:00, 1.23MB/s]\n"
     ]
    },
    {
     "name": "stdout",
     "output_type": "stream",
     "text": [
      "Train Epoch: 1 [0/60000 (0%)]\tLoss: 2.310686\n",
      "Train Epoch: 1 [12800/60000 (21%)]\tLoss: 2.259227\n",
      "Train Epoch: 1 [25600/60000 (43%)]\tLoss: 1.735932\n",
      "Train Epoch: 1 [38400/60000 (64%)]\tLoss: 0.945353\n",
      "Train Epoch: 1 [51200/60000 (85%)]\tLoss: 0.737520\n",
      "\n",
      "Test set: Average loss: 0.6418, Accuracy: 8767/10000 (88%)\n",
      "\n",
      "Train Epoch: 2 [0/60000 (0%)]\tLoss: 0.836252\n",
      "Train Epoch: 2 [12800/60000 (21%)]\tLoss: 0.656715\n",
      "Train Epoch: 2 [25600/60000 (43%)]\tLoss: 0.523689\n",
      "Train Epoch: 2 [38400/60000 (64%)]\tLoss: 0.421501\n",
      "Train Epoch: 2 [51200/60000 (85%)]\tLoss: 0.677308\n",
      "\n",
      "Test set: Average loss: 0.3559, Accuracy: 9303/10000 (93%)\n",
      "\n",
      "Train Epoch: 3 [0/60000 (0%)]\tLoss: 0.576494\n",
      "Train Epoch: 3 [12800/60000 (21%)]\tLoss: 0.410671\n",
      "Train Epoch: 3 [25600/60000 (43%)]\tLoss: 0.323674\n",
      "Train Epoch: 3 [38400/60000 (64%)]\tLoss: 0.360275\n",
      "Train Epoch: 3 [51200/60000 (85%)]\tLoss: 0.335233\n",
      "\n",
      "Test set: Average loss: 0.2505, Accuracy: 9464/10000 (95%)\n",
      "\n",
      "Train Epoch: 4 [0/60000 (0%)]\tLoss: 0.378110\n",
      "Train Epoch: 4 [12800/60000 (21%)]\tLoss: 0.563618\n",
      "Train Epoch: 4 [25600/60000 (43%)]\tLoss: 0.388507\n",
      "Train Epoch: 4 [38400/60000 (64%)]\tLoss: 0.328730\n",
      "Train Epoch: 4 [51200/60000 (85%)]\tLoss: 0.387330\n",
      "\n",
      "Test set: Average loss: 0.1975, Accuracy: 9560/10000 (96%)\n",
      "\n",
      "Train Epoch: 5 [0/60000 (0%)]\tLoss: 0.392278\n",
      "Train Epoch: 5 [12800/60000 (21%)]\tLoss: 0.287382\n",
      "Train Epoch: 5 [25600/60000 (43%)]\tLoss: 0.292907\n",
      "Train Epoch: 5 [38400/60000 (64%)]\tLoss: 0.246192\n",
      "Train Epoch: 5 [51200/60000 (85%)]\tLoss: 0.407972\n",
      "\n",
      "Test set: Average loss: 0.1709, Accuracy: 9609/10000 (96%)\n",
      "\n"
     ]
    }
   ],
   "source": [
    "# train model \n",
    "model, test_loader = model_mnist.get_trained_model(nb_of_epochs=5)"
   ]
  },
  {
   "cell_type": "markdown",
   "metadata": {},
   "source": [
    "Great, now you have a simple trained CNN model with a high accuracy of ~96%!  "
   ]
  },
  {
   "cell_type": "markdown",
   "metadata": {},
   "source": [
    "## Now, what does my model think is important in the data?\n",
    "\n",
    "### SHapley Additive exPlanations (SHAP)\n",
    "\n",
    "**We prepared a small [Introduction to SHAP](https://xai-tutorials.readthedocs.io/en/latest/_model_agnostic_xai/shap.html) for you, to help you understand how this method works.**\n",
    "\n",
    "*Note: we provide all references [here](https://xai-tutorials.readthedocs.io/en/latest/_model_agnostic_xai/shap.html#references).*"
   ]
  },
  {
   "cell_type": "markdown",
   "metadata": {},
   "source": [
    "<font color='green'>\n",
    "\n",
    "#### Question 1: What does the Shapley value tell you about the effect of the feature on a prediction?\n",
    "\n",
    "<font color='grey'>\n",
    "\n",
    "#### Your Answer: \n",
    "It tells you by how much the specific feature is moving the sample’s prediction away from the mean prediction of all samples.\n",
    "\n",
    "\n",
    "<font color='green'>\n",
    "\n",
    "#### Question 2: What is the main limitation of Shapley values and why?\n",
    "\n",
    "<font color='grey'>\n",
    "\n",
    "#### Your Answer: \n",
    "It is computationally expensive, especially for large models and large feature sets, as you need to compute all possible combinations of features. Also problems with complex correlations."
   ]
  },
  {
   "cell_type": "markdown",
   "metadata": {},
   "source": [
    "Now, let's use SHAP to get insights into the image classification model. The `shap.Explainer()` class estimates the Shapley values to explain any machine learning model. Within this class, multiple explainers can be used to explain which features are important in an image for classification. Some of them are:\n",
    "* [DeepExplainer](https://shap.readthedocs.io/en/latest/generated/shap.DeepExplainer.html)\n",
    "* [PartitionExplainer](https://shap.readthedocs.io/en/latest/generated/shap.PartitionExplainer.html)\n",
    "* [GradientExplainer](https://shap.readthedocs.io/en/latest/generated/shap.GradientExplainer.html)\n",
    "\n",
    "All of the above use specific methods to approximate Shapley values for deep learning models. In this course, we will focus on the implementation of `shap.GradientExplainer()`,  which calculates Shapley values for CNN models in a fast and model-specific way. You can read more about each explainer in the [SHAP API](https://shap.readthedocs.io/en/latest/api.html#explainers).\n",
    "\n",
    "**GradientExplainer**\n",
    "\n",
    "Many models, including several neural networks, are gradient-based. Gradient-based explanation methods leverage the ability to compute gradients of the loss function with respect to the model input features to explain model predictions. By analyzing how the model's output changes in response to variations in the input features, these methods provide insights into the factors driving model decisions: if a pixel is relevant, a small change in it has big impact on the output, therefore the gradient is high.\n",
    "\n",
    "The gradients can be used to approximate the Shapley values and GradientExplainer allows to do this estimetion in a fast and efficient way. There’s a connection between the gradient estimator used in GradientExplainer and an explainability method called **Integrated Gradients** ([Sundararajan et al. 2017](https://doi.org/10.48550/arXiv.1703.01365)).\n",
    "Integrated Gradients is a feature attribution gradient-based method that computes the integral of the gradients on a path which is a straight line from a baseline (e.g. black image) to the input.\n",
    "The difference between Integrated Gradients and SHAP values is that Integrated Gradients use a single reference point, while Shapley values utilize a background data set. \n",
    "We will not go into the details here, but rather focus on interpreting the results. To know more about how the SHAP class shap.GradientExplainer() approximates the Shapley values, we recommend reading the SHAP documentation and the \"Interpreting Machine Learning Models With SHAP\" book ([Molnar 2022](https://leanpub.com/shap)). \n"
   ]
  },
  {
   "cell_type": "markdown",
   "metadata": {},
   "source": [
    "### Step 1 - Create a baseline\n",
    "\n",
    "We need to select a part of our data set to create a baseline, i.e., the background dataset to use for integrating our features."
   ]
  },
  {
   "cell_type": "code",
   "execution_count": 11,
   "metadata": {},
   "outputs": [],
   "source": [
    "batch = next(iter(test_loader))\n",
    "images, labels = batch\n",
    "\n",
    "baseline = images[:100]\n",
    "img_to_explain = images[[2,11, 10]]"
   ]
  },
  {
   "cell_type": "markdown",
   "metadata": {},
   "source": [
    "### Step 2 - Instantiate the class\n",
    "We decided to focus on GradientExplainer, which is implemented in the `shap.GradientExplainer()`.  \n",
    "The first argument is the model (or a tuple containing the model and the layer that should be explained, which will return Shapley values for the input of the layer argument - see [example](https://shap.readthedocs.io/en/latest/example_notebooks/image_examples/image_classification/Explain%20an%20Intermediate%20Layer%20of%20VGG16%20on%20ImageNet%20%28PyTorch%29.html)). The second argument is the baseline built with the background dataset."
   ]
  },
  {
   "cell_type": "code",
   "execution_count": 12,
   "metadata": {},
   "outputs": [],
   "source": [
    "# explain model prediction\n",
    "explainer = shap.GradientExplainer(model, baseline)"
   ]
  },
  {
   "cell_type": "markdown",
   "metadata": {},
   "source": [
    "### Step 3 - Compute SHAP values on a custom image\n",
    "\n",
    "In the `shap_values()` method we pass as a tensor the image(s) we want to explain."
   ]
  },
  {
   "cell_type": "code",
   "execution_count": 13,
   "metadata": {},
   "outputs": [],
   "source": [
    "shap_values = explainer.shap_values(img_to_explain)"
   ]
  },
  {
   "cell_type": "markdown",
   "metadata": {},
   "source": [
    "### Step 4 - Plot results"
   ]
  },
  {
   "cell_type": "markdown",
   "metadata": {},
   "source": [
    "*Note: the SHAP package is still a bit buggy when it comes to plotting functions.\n",
    "To plot the SHAP values properly we have to change dimensions of the SHAP results.*"
   ]
  },
  {
   "cell_type": "code",
   "execution_count": 14,
   "metadata": {},
   "outputs": [
    {
     "name": "stdout",
     "output_type": "stream",
     "text": [
      "Number of arrays (images to explain) is 3 with dimension (1, 28, 28, 10)\n"
     ]
    }
   ],
   "source": [
    "print(f\"Number of arrays (images to explain) is {len(shap_values)} with dimension {shap_values[0].shape}\")"
   ]
  },
  {
   "cell_type": "markdown",
   "metadata": {},
   "source": [
    "However, the expected shape for plotting is 10 arrays (one for each class) with the shape (num_images, height, width, channels), i.e. (3, 28, 28, 1). Hence, the shap values for plotting should have the format: list of 10 arrays (one per class), each of shape (3, 28, 28, 1).\n",
    "\n",
    "With the code below we reshape the output to have the correct format:"
   ]
  },
  {
   "cell_type": "code",
   "execution_count": 15,
   "metadata": {},
   "outputs": [],
   "source": [
    "# Reshape SHAP values\n",
    "reshaped_shap_values = []\n",
    "\n",
    "for class_idx in range(10):  # Iterate over the 10 classes\n",
    "    class_shap_values = []\n",
    "    for img_idx in range(len(shap_values)):  # Iterate over the 3 images\n",
    "        # Extract SHAP values for this class and remove singleton batch dimension\n",
    "        single_image_shap = shap_values[img_idx][0, :, :, class_idx]  # Shape: (28, 28)\n",
    "        class_shap_values.append(single_image_shap[..., np.newaxis])  # Add channel dimension: (28, 28, 1)\n",
    "    reshaped_shap_values.append(np.array(class_shap_values))  # Combine SHAP values for this class"
   ]
  },
  {
   "cell_type": "code",
   "execution_count": 16,
   "metadata": {},
   "outputs": [
    {
     "name": "stdout",
     "output_type": "stream",
     "text": [
      "Number of arrays (numbers in the dataset) is 10 with dimension (3, 28, 28, 1)\n"
     ]
    }
   ],
   "source": [
    "print(f\"Number of arrays (numbers in the dataset) is {len(reshaped_shap_values)} with dimension {reshaped_shap_values[0].shape}\")"
   ]
  },
  {
   "cell_type": "code",
   "execution_count": 17,
   "metadata": {},
   "outputs": [
    {
     "data": {
      "image/png": "[encoded data removed]",
      "text/plain": [
       "<Figure size 2000x606.061 with 34 Axes>"
      ]
     },
     "metadata": {},
     "output_type": "display_data"
    }
   ],
   "source": [
    "img_to_plot = np.array(img_to_explain).swapaxes(-1,1).swapaxes(1, 2)\n",
    "shap.image_plot(reshaped_shap_values, img_to_plot)"
   ]
  },
  {
   "cell_type": "markdown",
   "metadata": {},
   "source": [
    "SHAP uses colors to explain the pixel attribution:\n",
    "- Red pixels increase the probability of a class being predicted\n",
    "- Blue pixels decrease the probability of a class being predicted\n",
    "\n",
    "In the images above, the input images are shown on the left column and the other columns show the SHAP value for the classes from 1 to 9, with the original image nearly transparent grayscale backings behind each of the explanations. The sum of the SHAP values equals the difference between the expected model output (averaged over the background dataset) and the current model output."
   ]
  },
  {
   "cell_type": "markdown",
   "metadata": {},
   "source": [
    "<font color='green'>\n",
    "\n",
    "#### Question 3: Can you explain from the plot what the Shapley values tell us?\n",
    "\n",
    "<font color='grey'>\n",
    "\n",
    "#### Your Answer:\n",
    "One plausible explanation is that, in the case of the digit zero, the empty space in the center of the image significantly influences the prediction of the correct class. Conversely, for the eighth class, those same pixels appear blue because that vacant space would have been occupied.\n",
    "\n",
    "Another valid interpretation is that, for the digit six, the absence of a connection in the top-right part of the number plays a pivotal role in the prediction.\n",
    "    \n",
    "<font color='green'>\n",
    "\n",
    "#### Question 4: Why is SHAP  considered a contrastive method?\n",
    "\n",
    "Hint: think about the role of the baseline, can you think about other ways to create a baseline for images (image with no features)?\n",
    "\n",
    "<font color='grey'>\n",
    "\n",
    "#### Your Answer:\n",
    "The key lies in the role of the baseline or reference dataset. In explainability methods like SHAP, each time we select a baseline or reference dataset, it effectively establishes a basis for contrast. It compares the features of the input data, such as an image with specific features, against those of a reference dataset, typically an image lacking those features. This contrastive approach enables the quantification of how much each feature contributes to the model's prediction in relation to the chosen baseline. This process significantly aids in comprehending the underlying behavior of the model. It's worth noting that attributions in SHAP are relative values, representing contributions compared to the selected baseline.  Therefore, this method is that the attributions are not absolute values, but they are the contributions compared to a baseline.\n",
    "\n",
    "Another conceptual limitation is the choice of a baseline that might change the explanation we get [Sturmfels et al., 2020](https://distill.pub/2020/attribution-baselines/).\n",
    "    \n",
    "<font color='green'>\n",
    "\n",
    "#### Question 5: What do you think are the strengths and weaknesses of SHAP on image classification?\n",
    "\n",
    "<font color='grey'>\n",
    "\n",
    "#### Your Answer: \n",
    "- Model-agnostic: SHAP can be applied to any machine learning model, not limited to CNNs, making it versatile for different architectures.\n",
    "- Global and local interpretability: SHAP provides both global and local interpretability, allowing you to understand feature importance for individual predictions and the model's overall behavior.\n",
    "- Quantitative explanations: It assigns attribution values to each feature (e.g., pixels in an image), providing a quantitative measure of their impact on the model's decision.\n",
    "- Consistency: SHAP values adhere to Shapley values, which have a solid theoretical foundation in cooperative game theory.\n",
    "\n",
    "Cons:\n",
    "- Computationally intensive: Computing SHAP values can be resource-intensive, especially for complex models and large datasets.\n",
    "- Complexity: Understanding and implementing SHAP values may require a deeper understanding of the SHAP framework and concepts like cooperative game theory.\n",
    "- Some approximation is required: For deep learning models, exact SHAP values are often infeasible to compute, so approximations are used, potentially leading to less precise explanations.\n",
    "- The choice of baseline images can significantly affect SHAP results (or any method that relies on baselines) - [Sturmfels et al., 2020](https://distill.pub/2020/attribution-baselines/)\n",
    "    "
   ]
  },
  {
   "cell_type": "code",
   "execution_count": 18,
   "metadata": {},
   "outputs": [],
   "source": [
    "# remove the downloaded data\n",
    "!rm -r ./mnist_data"
   ]
  }
 ],
 "metadata": {
  "kernelspec": {
   "display_name": "xai_cnn",
   "language": "python",
   "name": "python3"
  },
  "language_info": {
   "codemirror_mode": {
    "name": "ipython",
    "version": 3
   },
   "file_extension": ".py",
   "mimetype": "text/x-python",
   "name": "python",
   "nbconvert_exporter": "python",
   "pygments_lexer": "ipython3",
   "version": "3.11.12"
  }
 },
 "nbformat": 4,
 "nbformat_minor": 4
}
