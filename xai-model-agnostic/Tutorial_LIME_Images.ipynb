{
 "cells": [
  {
   "cell_type": "markdown",
   "id": "5eb528bc-0413-44eb-a1ee-6e997fbad776",
   "metadata": {},
   "source": [
    "![logo](https://github.com/donatellacea/DL_tutorials/blob/main/notebooks/figures/1128-191-max.png?raw=true)"
   ]
  },
  {
   "cell_type": "markdown",
   "id": "f9993dd0-dbe9-4941-8206-531186ad6998",
   "metadata": {},
   "source": [
    "# Model-Agnostic Interpretation with LIME for Image Analysis\n",
    "\n",
    "In this Notebook we will demonstrate how to use the Local Interpretable Model-agnostic Explanations (LIME) method and interpret its results for image classification models.\n",
    "\n",
    "--------"
   ]
  },
  {
   "cell_type": "markdown",
   "id": "812f1bc9-1050-4281-bb91-aacc52bed3a3",
   "metadata": {},
   "source": [
    "## Getting Started\n",
    "\n",
    "### Setup Colab environment\n",
    "\n",
    "If you installed the packages and requirements on your own machine, you can skip this section and start from the import section.\n",
    "Otherwise, you can follow and execute the tutorial on your browser. In order to start working on the notebook, click on the following button, this will open this page in the Colab environment and you will be able to execute the code on your own.\n",
    "\n",
    "<a href=\"https://colab.research.google.com/github/HelmholtzAI-Consultants-Munich/Zero2Hero---Introduction-to-XAI/blob/master/xai-model-agnostic/Tutorial_SHAP_Images.ipynb\" target=\"_parent\"><img src=\"https://colab.research.google.com/assets/colab-badge.svg\" alt=\"Open In Colab\"/></a>\n"
   ]
  },
  {
   "cell_type": "markdown",
   "id": "46619338-0fbc-4123-a15c-49bcbeb2851e",
   "metadata": {},
   "source": [
    "Now that you opened the notebook in Colab, follow the next step:\n",
    "\n",
    "1. Run this cell to connect your Google Drive to Colab and install packages\n",
    "2. Allow this notebook to access your Google Drive files. Click on 'Yes', and select your account.\n",
    "3. \"Google Drive for desktop wants to access your Google Account\". Click on 'Allow'.\n",
    "   \n",
    "At this point, a folder has been created in your Drive and you can navigate it through the lefthand panel in Colab, you might also have received an email that informs you about the access on your Google Drive."
   ]
  },
  {
   "cell_type": "code",
   "execution_count": null,
   "id": "1e328e00-c99f-4b44-9250-4120cb0a3a49",
   "metadata": {},
   "outputs": [],
   "source": [
    "# from google.colab import drive\n",
    "# drive.mount('/content/drive')\n",
    "# %cd /content/drive/MyDrive\n",
    "# !git clone --branch Juelich-2023 https://github.com/HelmholtzAI-Consultants-Munich/XAI-Tutorials.git\n",
    "# %cd XAI-Tutorials/xai-model-agnostic\n",
    "# %pip install lime"
   ]
  },
  {
   "cell_type": "markdown",
   "id": "a91db77d-c0cd-47c9-890a-a6ea840a0e00",
   "metadata": {},
   "source": [
    "### Imports\n",
    "\n",
    "Let's start with importing all required Python packages."
   ]
  },
  {
   "cell_type": "code",
   "execution_count": null,
   "id": "53b07c00-b149-4bf4-bfa1-96ded2d81102",
   "metadata": {},
   "outputs": [],
   "source": [
    "import numpy as np\n",
    "import shap\n",
    "import matplotlib.pyplot as plt\n",
    "import random\n",
    "import utils"
   ]
  }
 ],
 "metadata": {
  "kernelspec": {
   "display_name": "Python 3 (ipykernel)",
   "language": "python",
   "name": "python3"
  },
  "language_info": {
   "codemirror_mode": {
    "name": "ipython",
    "version": 3
   },
   "file_extension": ".py",
   "mimetype": "text/x-python",
   "name": "python",
   "nbconvert_exporter": "python",
   "pygments_lexer": "ipython3",
   "version": "3.10.4"
  }
 },
 "nbformat": 4,
 "nbformat_minor": 5
}
