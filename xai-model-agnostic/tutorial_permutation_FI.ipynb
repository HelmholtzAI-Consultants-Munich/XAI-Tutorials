{
 "cells": [
  {
   "cell_type": "markdown",
   "id": "84308568",
   "metadata": {},
   "source": [
    "![logo](https://github.com/donatellacea/DL_tutorials/blob/main/notebooks/figures/1128-191-max.png?raw=true)"
   ]
  },
  {
   "cell_type": "markdown",
   "id": "55296300",
   "metadata": {},
   "source": [
    "# Model-Agnostic Interpretation with Permutation Feature Importance\n",
    "\n",
    "In this Notebook we will demonstrate how to use the Permutation Feature Importance method and interpret its results.\n",
    "\n",
    "--------\n"
   ]
  },
  {
   "cell_type": "markdown",
   "id": "44db4dc4",
   "metadata": {
    "colab_type": "text",
    "id": "XYNno0xtOFJ-"
   },
   "source": [
    "### Setup Colab environment\n",
    "\n",
    "If you installed the packages and requirments on your own machine, you can skip this section and start from the import section.\n",
    "Otherwise you can follow and execute the tutorial on your browser. In order to start working on the notebook, click on the following button, this will open this page in the Colab environment and you will be able to execute the code on your own.\n",
    "\n",
    "<a href=\"https://colab.research.google.com/github/HelmholtzAI-Consultants-Munich/Zero2Hero---Introduction-to-XAI/blob/master/xai-model-agnostic/tutorial_permutation_FI.ipynb\" target=\"_parent\"><img src=\"https://colab.research.google.com/assets/colab-badge.svg\" alt=\"Open In Colab\"/></a>\n"
   ]
  },
  {
   "cell_type": "markdown",
   "id": "358949e2",
   "metadata": {},
   "source": [
    "After the first execution you might receive some warning and notification, please follow these instructions:  \n",
    "\n",
    "1. Warning: This notebook was not authored by Google.*  Click on 'Run anyway'.\n",
    "2. Permit this notebook to access your Google Drive files? Click on 'Yes', and select your account.\n",
    "3. Google Drive for desktop wants to access your Google Account. Click on 'Allow'.\n",
    "\n",
    "At this point, a folder has been created and you can navigate it through the lefthand panel in Colab, you might also have received an email that informs you about the access on your Google Drive."
   ]
  },
  {
   "cell_type": "code",
   "execution_count": null,
   "id": "467b407b",
   "metadata": {},
   "outputs": [],
   "source": [
    "# Create a folder in your Google Drive\n",
    "from google.colab import drive\n",
    "drive.mount('/content/drive')"
   ]
  },
  {
   "cell_type": "code",
   "execution_count": null,
   "id": "ab17363d",
   "metadata": {},
   "outputs": [],
   "source": [
    "%cd drive/MyDrive"
   ]
  },
  {
   "cell_type": "code",
   "execution_count": null,
   "id": "13c2462a",
   "metadata": {},
   "outputs": [],
   "source": [
    "# Don't run this cell if you already cloned the repo\n",
    "!git clone https://github.com/HelmholtzAI-Consultants-Munich/Zero2Hero---Introduction-to-XAI.git  "
   ]
  },
  {
   "cell_type": "code",
   "execution_count": null,
   "id": "20d5e3f3",
   "metadata": {},
   "outputs": [],
   "source": [
    "%cd Zero2Hero---Introduction-to-XAI/xai-model-agnostic"
   ]
  },
  {
   "cell_type": "markdown",
   "id": "2e36efe4",
   "metadata": {},
   "source": [
    "### Import"
   ]
  },
  {
   "cell_type": "code",
   "execution_count": 1,
   "id": "a005356f",
   "metadata": {},
   "outputs": [],
   "source": [
    "import pandas as pd\n",
    "import numpy as np\n",
    "import matplotlib.pyplot as plt\n",
    "import seaborn as sns\n",
    "\n",
    "from utils.utils import * \n",
    "\n",
    "from sklearn.datasets import fetch_california_housing\n",
    "from sklearn.model_selection import train_test_split\n",
    "from sklearn.pipeline import Pipeline\n",
    "from sklearn.metrics import get_scorer\n",
    "from sklearn.preprocessing import StandardScaler\n",
    "from sklearn.ensemble import RandomForestRegressor\n",
    "from sklearn.kernel_ridge import KernelRidge\n",
    "from sklearn.inspection import permutation_importance"
   ]
  },
  {
   "cell_type": "markdown",
   "id": "36832b46",
   "metadata": {
    "cell_marker": "'''"
   },
   "source": [
    "We fix the random seeds to ensure reproducible results, as we work with (pseudo) random numbers."
   ]
  },
  {
   "cell_type": "code",
   "execution_count": 2,
   "id": "83517e3e",
   "metadata": {},
   "outputs": [],
   "source": [
    "# assert reproducible random number generation\n",
    "seed = 1\n",
    "np.random.seed(seed)"
   ]
  },
  {
   "cell_type": "markdown",
   "id": "ff80af92",
   "metadata": {},
   "source": [
    "## The California Housing Dataset: Data Loading and Model Training"
   ]
  },
  {
   "cell_type": "markdown",
   "id": "bfe9a0bd",
   "metadata": {
    "cell_marker": "'''",
    "lines_to_next_cell": 0
   },
   "source": [
    "Let's use the California housing data set. The data pertains to the house prices found in a given California district and some summary statistics about them based on the 1990 census data.\n",
    "\n",
    "<center><img src=\"./figures/california_housing.jpg\" width=\"1200\" /></center>\n",
    "\n",
    "<font size=1> Source:\\\n",
    "https://www.kaggle.com/datasets/harrywang/housing"
   ]
  },
  {
   "cell_type": "markdown",
   "id": "796e88e7",
   "metadata": {},
   "source": [
    "Download the data:"
   ]
  },
  {
   "cell_type": "code",
   "execution_count": 3,
   "id": "173484c2",
   "metadata": {},
   "outputs": [],
   "source": [
    "calif_house_data = fetch_california_housing()\n",
    "X = pd.DataFrame(calif_house_data['data'], columns = calif_house_data['feature_names'])\n",
    "y = pd.DataFrame(calif_house_data['target'], columns=['Price'])"
   ]
  },
  {
   "cell_type": "markdown",
   "id": "29caebef",
   "metadata": {},
   "source": [
    "See how many samples and features we have in the dataset and how their values are distributed:"
   ]
  },
  {
   "cell_type": "code",
   "execution_count": 4,
   "id": "d2e03c72",
   "metadata": {},
   "outputs": [
    {
     "name": "stdout",
     "output_type": "stream",
     "text": [
      "Features: ['MedInc', 'HouseAge', 'AveRooms', 'AveBedrms', 'Population', 'AveOccup', 'Latitude', 'Longitude']\n",
      "# samples: 20640, # features: 8\n"
     ]
    }
   ],
   "source": [
    "print('Features: {}'.format(list(X.columns)))\n",
    "print('# samples: {}, # features: {}'.format(len(X.index), len(X.columns)))"
   ]
  },
  {
   "cell_type": "code",
   "execution_count": 5,
   "id": "d494f886",
   "metadata": {},
   "outputs": [
    {
     "data": {
      "text/html": [
       "<div>\n",
       "<style scoped>\n",
       "    .dataframe tbody tr th:only-of-type {\n",
       "        vertical-align: middle;\n",
       "    }\n",
       "\n",
       "    .dataframe tbody tr th {\n",
       "        vertical-align: top;\n",
       "    }\n",
       "\n",
       "    .dataframe thead th {\n",
       "        text-align: right;\n",
       "    }\n",
       "</style>\n",
       "<table border=\"1\" class=\"dataframe\">\n",
       "  <thead>\n",
       "    <tr style=\"text-align: right;\">\n",
       "      <th></th>\n",
       "      <th>MedInc</th>\n",
       "      <th>HouseAge</th>\n",
       "      <th>AveRooms</th>\n",
       "      <th>AveBedrms</th>\n",
       "      <th>Population</th>\n",
       "      <th>AveOccup</th>\n",
       "      <th>Latitude</th>\n",
       "      <th>Longitude</th>\n",
       "    </tr>\n",
       "  </thead>\n",
       "  <tbody>\n",
       "    <tr>\n",
       "      <th>count</th>\n",
       "      <td>20640.000000</td>\n",
       "      <td>20640.000000</td>\n",
       "      <td>20640.000000</td>\n",
       "      <td>20640.000000</td>\n",
       "      <td>20640.000000</td>\n",
       "      <td>20640.000000</td>\n",
       "      <td>20640.000000</td>\n",
       "      <td>20640.000000</td>\n",
       "    </tr>\n",
       "    <tr>\n",
       "      <th>mean</th>\n",
       "      <td>3.870671</td>\n",
       "      <td>28.639486</td>\n",
       "      <td>5.429000</td>\n",
       "      <td>1.096675</td>\n",
       "      <td>1425.476744</td>\n",
       "      <td>3.070655</td>\n",
       "      <td>35.631861</td>\n",
       "      <td>-119.569704</td>\n",
       "    </tr>\n",
       "    <tr>\n",
       "      <th>std</th>\n",
       "      <td>1.899822</td>\n",
       "      <td>12.585558</td>\n",
       "      <td>2.474173</td>\n",
       "      <td>0.473911</td>\n",
       "      <td>1132.462122</td>\n",
       "      <td>10.386050</td>\n",
       "      <td>2.135952</td>\n",
       "      <td>2.003532</td>\n",
       "    </tr>\n",
       "    <tr>\n",
       "      <th>min</th>\n",
       "      <td>0.499900</td>\n",
       "      <td>1.000000</td>\n",
       "      <td>0.846154</td>\n",
       "      <td>0.333333</td>\n",
       "      <td>3.000000</td>\n",
       "      <td>0.692308</td>\n",
       "      <td>32.540000</td>\n",
       "      <td>-124.350000</td>\n",
       "    </tr>\n",
       "    <tr>\n",
       "      <th>25%</th>\n",
       "      <td>2.563400</td>\n",
       "      <td>18.000000</td>\n",
       "      <td>4.440716</td>\n",
       "      <td>1.006079</td>\n",
       "      <td>787.000000</td>\n",
       "      <td>2.429741</td>\n",
       "      <td>33.930000</td>\n",
       "      <td>-121.800000</td>\n",
       "    </tr>\n",
       "    <tr>\n",
       "      <th>50%</th>\n",
       "      <td>3.534800</td>\n",
       "      <td>29.000000</td>\n",
       "      <td>5.229129</td>\n",
       "      <td>1.048780</td>\n",
       "      <td>1166.000000</td>\n",
       "      <td>2.818116</td>\n",
       "      <td>34.260000</td>\n",
       "      <td>-118.490000</td>\n",
       "    </tr>\n",
       "    <tr>\n",
       "      <th>75%</th>\n",
       "      <td>4.743250</td>\n",
       "      <td>37.000000</td>\n",
       "      <td>6.052381</td>\n",
       "      <td>1.099526</td>\n",
       "      <td>1725.000000</td>\n",
       "      <td>3.282261</td>\n",
       "      <td>37.710000</td>\n",
       "      <td>-118.010000</td>\n",
       "    </tr>\n",
       "    <tr>\n",
       "      <th>max</th>\n",
       "      <td>15.000100</td>\n",
       "      <td>52.000000</td>\n",
       "      <td>141.909091</td>\n",
       "      <td>34.066667</td>\n",
       "      <td>35682.000000</td>\n",
       "      <td>1243.333333</td>\n",
       "      <td>41.950000</td>\n",
       "      <td>-114.310000</td>\n",
       "    </tr>\n",
       "  </tbody>\n",
       "</table>\n",
       "</div>"
      ],
      "text/plain": [
       "             MedInc      HouseAge      AveRooms     AveBedrms    Population  \\\n",
       "count  20640.000000  20640.000000  20640.000000  20640.000000  20640.000000   \n",
       "mean       3.870671     28.639486      5.429000      1.096675   1425.476744   \n",
       "std        1.899822     12.585558      2.474173      0.473911   1132.462122   \n",
       "min        0.499900      1.000000      0.846154      0.333333      3.000000   \n",
       "25%        2.563400     18.000000      4.440716      1.006079    787.000000   \n",
       "50%        3.534800     29.000000      5.229129      1.048780   1166.000000   \n",
       "75%        4.743250     37.000000      6.052381      1.099526   1725.000000   \n",
       "max       15.000100     52.000000    141.909091     34.066667  35682.000000   \n",
       "\n",
       "           AveOccup      Latitude     Longitude  \n",
       "count  20640.000000  20640.000000  20640.000000  \n",
       "mean       3.070655     35.631861   -119.569704  \n",
       "std       10.386050      2.135952      2.003532  \n",
       "min        0.692308     32.540000   -124.350000  \n",
       "25%        2.429741     33.930000   -121.800000  \n",
       "50%        2.818116     34.260000   -118.490000  \n",
       "75%        3.282261     37.710000   -118.010000  \n",
       "max     1243.333333     41.950000   -114.310000  "
      ]
     },
     "execution_count": 5,
     "metadata": {},
     "output_type": "execute_result"
    }
   ],
   "source": [
    "X.describe()"
   ]
  },
  {
   "cell_type": "markdown",
   "id": "0bb937d1",
   "metadata": {
    "cell_marker": "'''"
   },
   "source": [
    "The data set has 20640 observations, 8 features, and 1 target variable. **Note:** each row in the dataset represents a block of houses, not a single household.  \n",
    "The target variable *price* is continuous and given in 100.000 $, so we can predict it using the other available features with a regression model of our choice."
   ]
  },
  {
   "cell_type": "code",
   "execution_count": 6,
   "id": "fd61c06c",
   "metadata": {},
   "outputs": [
    {
     "data": {
      "text/html": [
       "<div>\n",
       "<style scoped>\n",
       "    .dataframe tbody tr th:only-of-type {\n",
       "        vertical-align: middle;\n",
       "    }\n",
       "\n",
       "    .dataframe tbody tr th {\n",
       "        vertical-align: top;\n",
       "    }\n",
       "\n",
       "    .dataframe thead th {\n",
       "        text-align: right;\n",
       "    }\n",
       "</style>\n",
       "<table border=\"1\" class=\"dataframe\">\n",
       "  <thead>\n",
       "    <tr style=\"text-align: right;\">\n",
       "      <th></th>\n",
       "      <th>Price</th>\n",
       "    </tr>\n",
       "  </thead>\n",
       "  <tbody>\n",
       "    <tr>\n",
       "      <th>0</th>\n",
       "      <td>4.526</td>\n",
       "    </tr>\n",
       "    <tr>\n",
       "      <th>1</th>\n",
       "      <td>3.585</td>\n",
       "    </tr>\n",
       "    <tr>\n",
       "      <th>2</th>\n",
       "      <td>3.521</td>\n",
       "    </tr>\n",
       "    <tr>\n",
       "      <th>3</th>\n",
       "      <td>3.413</td>\n",
       "    </tr>\n",
       "    <tr>\n",
       "      <th>4</th>\n",
       "      <td>3.422</td>\n",
       "    </tr>\n",
       "  </tbody>\n",
       "</table>\n",
       "</div>"
      ],
      "text/plain": [
       "   Price\n",
       "0  4.526\n",
       "1  3.585\n",
       "2  3.521\n",
       "3  3.413\n",
       "4  3.422"
      ]
     },
     "execution_count": 6,
     "metadata": {},
     "output_type": "execute_result"
    }
   ],
   "source": [
    "y.head()"
   ]
  },
  {
   "cell_type": "markdown",
   "id": "5e77ee6b",
   "metadata": {},
   "source": [
    "For the sake of runtime we limit ourselves to only the first 2000 samples."
   ]
  },
  {
   "cell_type": "code",
   "execution_count": 7,
   "id": "d91e35cc",
   "metadata": {},
   "outputs": [],
   "source": [
    "X = X[:2000]\n",
    "y = y[:2000]"
   ]
  },
  {
   "cell_type": "markdown",
   "id": "0a6c4387",
   "metadata": {
    "cell_marker": "'''"
   },
   "source": [
    "We will split parts of the data, so the model can not use all the available information for training.  \n",
    "That way, we can also check performance and interpretation results on previously unseen data, mirroring the most probable practical use case."
   ]
  },
  {
   "cell_type": "code",
   "execution_count": 8,
   "id": "d9df4fb6",
   "metadata": {},
   "outputs": [
    {
     "name": "stdout",
     "output_type": "stream",
     "text": [
      "Number of training samples: 1500\n",
      "Number of training samples: 500\n"
     ]
    }
   ],
   "source": [
    "# split off the test data\n",
    "X_train, X_test, y_train, y_test = train_test_split(X, y, train_size=0.75, random_state=seed)\n",
    "print('Number of training samples: {}'.format(len(X_train.index)))\n",
    "print('Number of training samples: {}'.format(len(X_test.index)))"
   ]
  },
  {
   "cell_type": "markdown",
   "id": "20cbab6b",
   "metadata": {},
   "source": [
    "We'll create a Random Forest regression model to predict our *price* target variable from the other features, after they have been properly rescaled to each have zero mean and unit standard deviation. Don't worry for now if you are not familiar with the model. It is just meant as a protoype of a model that is not straightforward to interpret."
   ]
  },
  {
   "cell_type": "code",
   "execution_count": 9,
   "id": "4172d64f",
   "metadata": {},
   "outputs": [
    {
     "name": "stderr",
     "output_type": "stream",
     "text": [
      "/Users/lisa.barros/opt/anaconda3/envs/zero2hero/lib/python3.8/site-packages/sklearn/pipeline.py:382: DataConversionWarning: A column-vector y was passed when a 1d array was expected. Please change the shape of y to (n_samples,), for example using ravel().\n",
      "  self._final_estimator.fit(Xt, y, **fit_params_last_step)\n"
     ]
    },
    {
     "data": {
      "text/html": [
       "<style>#sk-container-id-1 {color: black;background-color: white;}#sk-container-id-1 pre{padding: 0;}#sk-container-id-1 div.sk-toggleable {background-color: white;}#sk-container-id-1 label.sk-toggleable__label {cursor: pointer;display: block;width: 100%;margin-bottom: 0;padding: 0.3em;box-sizing: border-box;text-align: center;}#sk-container-id-1 label.sk-toggleable__label-arrow:before {content: \"▸\";float: left;margin-right: 0.25em;color: #696969;}#sk-container-id-1 label.sk-toggleable__label-arrow:hover:before {color: black;}#sk-container-id-1 div.sk-estimator:hover label.sk-toggleable__label-arrow:before {color: black;}#sk-container-id-1 div.sk-toggleable__content {max-height: 0;max-width: 0;overflow: hidden;text-align: left;background-color: #f0f8ff;}#sk-container-id-1 div.sk-toggleable__content pre {margin: 0.2em;color: black;border-radius: 0.25em;background-color: #f0f8ff;}#sk-container-id-1 input.sk-toggleable__control:checked~div.sk-toggleable__content {max-height: 200px;max-width: 100%;overflow: auto;}#sk-container-id-1 input.sk-toggleable__control:checked~label.sk-toggleable__label-arrow:before {content: \"▾\";}#sk-container-id-1 div.sk-estimator input.sk-toggleable__control:checked~label.sk-toggleable__label {background-color: #d4ebff;}#sk-container-id-1 div.sk-label input.sk-toggleable__control:checked~label.sk-toggleable__label {background-color: #d4ebff;}#sk-container-id-1 input.sk-hidden--visually {border: 0;clip: rect(1px 1px 1px 1px);clip: rect(1px, 1px, 1px, 1px);height: 1px;margin: -1px;overflow: hidden;padding: 0;position: absolute;width: 1px;}#sk-container-id-1 div.sk-estimator {font-family: monospace;background-color: #f0f8ff;border: 1px dotted black;border-radius: 0.25em;box-sizing: border-box;margin-bottom: 0.5em;}#sk-container-id-1 div.sk-estimator:hover {background-color: #d4ebff;}#sk-container-id-1 div.sk-parallel-item::after {content: \"\";width: 100%;border-bottom: 1px solid gray;flex-grow: 1;}#sk-container-id-1 div.sk-label:hover label.sk-toggleable__label {background-color: #d4ebff;}#sk-container-id-1 div.sk-serial::before {content: \"\";position: absolute;border-left: 1px solid gray;box-sizing: border-box;top: 0;bottom: 0;left: 50%;z-index: 0;}#sk-container-id-1 div.sk-serial {display: flex;flex-direction: column;align-items: center;background-color: white;padding-right: 0.2em;padding-left: 0.2em;position: relative;}#sk-container-id-1 div.sk-item {position: relative;z-index: 1;}#sk-container-id-1 div.sk-parallel {display: flex;align-items: stretch;justify-content: center;background-color: white;position: relative;}#sk-container-id-1 div.sk-item::before, #sk-container-id-1 div.sk-parallel-item::before {content: \"\";position: absolute;border-left: 1px solid gray;box-sizing: border-box;top: 0;bottom: 0;left: 50%;z-index: -1;}#sk-container-id-1 div.sk-parallel-item {display: flex;flex-direction: column;z-index: 1;position: relative;background-color: white;}#sk-container-id-1 div.sk-parallel-item:first-child::after {align-self: flex-end;width: 50%;}#sk-container-id-1 div.sk-parallel-item:last-child::after {align-self: flex-start;width: 50%;}#sk-container-id-1 div.sk-parallel-item:only-child::after {width: 0;}#sk-container-id-1 div.sk-dashed-wrapped {border: 1px dashed gray;margin: 0 0.4em 0.5em 0.4em;box-sizing: border-box;padding-bottom: 0.4em;background-color: white;}#sk-container-id-1 div.sk-label label {font-family: monospace;font-weight: bold;display: inline-block;line-height: 1.2em;}#sk-container-id-1 div.sk-label-container {text-align: center;}#sk-container-id-1 div.sk-container {/* jupyter's `normalize.less` sets `[hidden] { display: none; }` but bootstrap.min.css set `[hidden] { display: none !important; }` so we also need the `!important` here to be able to override the default hidden behavior on the sphinx rendered scikit-learn.org. See: https://github.com/scikit-learn/scikit-learn/issues/21755 */display: inline-block !important;position: relative;}#sk-container-id-1 div.sk-text-repr-fallback {display: none;}</style><div id=\"sk-container-id-1\" class=\"sk-top-container\"><div class=\"sk-text-repr-fallback\"><pre>Pipeline(steps=[(&#x27;preprocessing&#x27;, StandardScaler()),\n",
       "                (&#x27;model&#x27;,\n",
       "                 RandomForestRegressor(max_depth=10, n_estimators=500,\n",
       "                                       random_state=42))])</pre><b>In a Jupyter environment, please rerun this cell to show the HTML representation or trust the notebook. <br />On GitHub, the HTML representation is unable to render, please try loading this page with nbviewer.org.</b></div><div class=\"sk-container\" hidden><div class=\"sk-item sk-dashed-wrapped\"><div class=\"sk-label-container\"><div class=\"sk-label sk-toggleable\"><input class=\"sk-toggleable__control sk-hidden--visually\" id=\"sk-estimator-id-1\" type=\"checkbox\" ><label for=\"sk-estimator-id-1\" class=\"sk-toggleable__label sk-toggleable__label-arrow\">Pipeline</label><div class=\"sk-toggleable__content\"><pre>Pipeline(steps=[(&#x27;preprocessing&#x27;, StandardScaler()),\n",
       "                (&#x27;model&#x27;,\n",
       "                 RandomForestRegressor(max_depth=10, n_estimators=500,\n",
       "                                       random_state=42))])</pre></div></div></div><div class=\"sk-serial\"><div class=\"sk-item\"><div class=\"sk-estimator sk-toggleable\"><input class=\"sk-toggleable__control sk-hidden--visually\" id=\"sk-estimator-id-2\" type=\"checkbox\" ><label for=\"sk-estimator-id-2\" class=\"sk-toggleable__label sk-toggleable__label-arrow\">StandardScaler</label><div class=\"sk-toggleable__content\"><pre>StandardScaler()</pre></div></div></div><div class=\"sk-item\"><div class=\"sk-estimator sk-toggleable\"><input class=\"sk-toggleable__control sk-hidden--visually\" id=\"sk-estimator-id-3\" type=\"checkbox\" ><label for=\"sk-estimator-id-3\" class=\"sk-toggleable__label sk-toggleable__label-arrow\">RandomForestRegressor</label><div class=\"sk-toggleable__content\"><pre>RandomForestRegressor(max_depth=10, n_estimators=500, random_state=42)</pre></div></div></div></div></div></div></div>"
      ],
      "text/plain": [
       "Pipeline(steps=[('preprocessing', StandardScaler()),\n",
       "                ('model',\n",
       "                 RandomForestRegressor(max_depth=10, n_estimators=500,\n",
       "                                       random_state=42))])"
      ]
     },
     "execution_count": 9,
     "metadata": {},
     "output_type": "execute_result"
    }
   ],
   "source": [
    "pipe = Pipeline([\n",
    "    (\"preprocessing\", StandardScaler()),\n",
    "    (\"model\", RandomForestRegressor(n_estimators=500,max_depth=10,random_state=42))\n",
    "])\n",
    "\n",
    "pipe.fit(X_train, y_train)"
   ]
  },
  {
   "cell_type": "markdown",
   "id": "f7a2c892",
   "metadata": {
    "cell_marker": "'''",
    "lines_to_next_cell": 0
   },
   "source": [
    "Now that the model is fit, let's check its performance as measured by the $R^2$ metric for both the training and the validation data. $R^2$ is the coefficient of determination and the closer this value is to 1, the better our model explains the data. A constant model that always predicts the average target value disregarding the input features would get an $R^2$ score of 0.  \n",
    "**Note:** $R^2$ score can also be negative because the model can be arbitrarily worse."
   ]
  },
  {
   "cell_type": "code",
   "execution_count": 10,
   "id": "28a28159",
   "metadata": {},
   "outputs": [
    {
     "name": "stdout",
     "output_type": "stream",
     "text": [
      "Model Performance on training data: 0.9534671052897918\n",
      "Model Performance on test data: 0.8487353028312214\n"
     ]
    }
   ],
   "source": [
    "# is the model performing reasonably on the training data?\n",
    "print('Model Performance on training data: {}'.format(pipe.score(X_train, y_train)))\n",
    "\n",
    "# is the model performing reasonably on the test data?\n",
    "print('Model Performance on test data: {}'.format(pipe.score(X_test, y_test)))"
   ]
  },
  {
   "cell_type": "markdown",
   "id": "0a596d4e",
   "metadata": {
    "cell_marker": "'''",
    "lines_to_next_cell": 2
   },
   "source": [
    "Since model training and tuning is not a focus of this course, we will not try to improve the model performance further.  \n",
    "**Note:** you should keep in mind that interpreting a low performing model can lead to wrong conclusions.\n",
    "\n",
    "Now that we trained a regression model which predicts the prices relatively well but might be a bit hard to interpret directly, we can make use of permutation feature importance to help us out."
   ]
  },
  {
   "cell_type": "markdown",
   "id": "496b408c",
   "metadata": {},
   "source": [
    "## Now, what does my model actually think is important in the data?"
   ]
  },
  {
   "cell_type": "markdown",
   "id": "2416db56",
   "metadata": {},
   "source": [
    "### Permutation Feature Importance"
   ]
  },
  {
   "cell_type": "markdown",
   "id": "c7c8cccc",
   "metadata": {
    "cell_marker": "'''"
   },
   "source": [
    "We will try to get insights into which features are important by carrying out a method called **Permutation feature importance**. The following explanation of the approach is taken directly from the [scikit_learn documentation](https://scikit-learn.org/stable/modules/permutation_importance.html#permutation-importance):\n",
    "\n",
    "\"*Permutation feature importance is a model inspection technique that can be used for any fitted estimator when the data is tabular. This is especially useful for non-linear or opaque estimators. The permutation feature importance is defined to be the decrease in a model score when a single feature value is randomly shuffled. This procedure breaks the relationship between the feature and the target, thus the drop in the model score is indicative of how much the model depends on the feature. This technique benefits from being model agnostic and can be calculated many times with different permutations of the feature*\"\n",
    "\n",
    "We prepared a small [video lecture](https://vimeo.com/745319412/1e5bd15ff7) for you to help you understand how Permutation Feature Importance works. Execute the next cell to watch it."
   ]
  },
  {
   "cell_type": "code",
   "execution_count": 11,
   "id": "734c6ad6",
   "metadata": {},
   "outputs": [
    {
     "data": {
      "text/html": [
       "\n",
       "        <iframe\n",
       "            width=\"800\"\n",
       "            height=\"600\"\n",
       "            src=\"https://player.vimeo.com/video/745319412?h=1e5bd15ff7\"\n",
       "            frameborder=\"0\"\n",
       "            allowfullscreen\n",
       "            \n",
       "        ></iframe>\n",
       "        "
      ],
      "text/plain": [
       "<IPython.lib.display.VimeoVideo at 0x7fcfe652fbe0>"
      ]
     },
     "execution_count": 11,
     "metadata": {},
     "output_type": "execute_result"
    }
   ],
   "source": [
    "from IPython.display import VimeoVideo\n",
    "\n",
    "VimeoVideo(\"745319412?h=1e5bd15ff7\", width=800, height=600)"
   ]
  },
  {
   "cell_type": "markdown",
   "id": "b2f61d3f",
   "metadata": {
    "cell_marker": "'''"
   },
   "source": [
    "To summarize, Permutation Feature Importance for a dataset of your choice works in the following way:\n",
    "\n",
    "First, an already trained model predicts outputs and computes a performance measure for our dataset. This will serve as baseline performance.\n",
    "\n",
    "Then, we carry out the following steps for each feature (potentially repeated multiple times):\n",
    "\n",
    "1) We permute the features value across the dataset, essentially messing up any connection between the label and this feature.  \n",
    "2) We predict outputs and compute the performance measure based on our dataset with the permuted feature.  \n",
    "3) We compare the performance measure with the baseline performance.  \n",
    "4) We use the difference between baseline performance and permuted performance as an indicator of the importance of the feature.  \n",
    "\n",
    "If both performances are similar, the messed up feature did not lead to a decrease in model performance, indicating that the model did not rely heavily on the feature, hence assigning low importance. \n",
    "On the other hand, if the performance of the data with the permuted feature is much worse than the baseline performance, this shows that the model highly depended on the feature to produce good scores.\n",
    "\n",
    "**Note:** this method is a **global** method which means that it only provides explanations for a full dataset, but not for individual samples."
   ]
  },
  {
   "cell_type": "markdown",
   "id": "e9f78b11",
   "metadata": {},
   "source": [
    "Now lets use the scikit-learn implementation called `permutation_importance` to get some insights into the Kernel Ridge regression model we trained above. For measuring the performance drop when permuting a feature, we use the standard metric of our trained model, which is the $R^2$ score. Using the same score enables us to evaluate the performace drop in relation to the baseline performance.\n",
    "20 repetitions of permutation are done for each feature to get more reliable results."
   ]
  },
  {
   "cell_type": "code",
   "execution_count": 12,
   "id": "30838b1d",
   "metadata": {},
   "outputs": [],
   "source": [
    "scorer = get_scorer(\"r2\")"
   ]
  },
  {
   "cell_type": "code",
   "execution_count": 13,
   "id": "55c2bc88",
   "metadata": {},
   "outputs": [],
   "source": [
    "explanation_train = permutation_importance(\n",
    "    pipe,\n",
    "    X=X_train,\n",
    "    y=y_train,\n",
    "    n_repeats=20,\n",
    "    random_state=seed,\n",
    "    scoring=scorer\n",
    ")\n",
    "\n",
    "explanation_train[\"feature\"] = X_train.columns"
   ]
  },
  {
   "cell_type": "markdown",
   "id": "36a3c0ae",
   "metadata": {},
   "source": [
    "We will now plot bar histograms for visualizing the importance of each feature as obtained by the mean over the 20 repetitions. To judge variability, we plot the box plots of the feature importances as well."
   ]
  },
  {
   "cell_type": "code",
   "execution_count": 14,
   "id": "7a41602b",
   "metadata": {},
   "outputs": [
    {
     "data": {
      "image/png": "[encoded data removed]",
      "text/plain": [
       "<Figure size 1000x400 with 2 Axes>"
      ]
     },
     "metadata": {},
     "output_type": "display_data"
    }
   ],
   "source": [
    "plot_permutation_feature_importance_with_variance(explanation_train, X_train, 'Permutation Feature Importance on Training Data for California Housing Model')"
   ]
  },
  {
   "cell_type": "markdown",
   "id": "dc5b6d1d",
   "metadata": {},
   "source": [
    "Features with the largest importance score are the ones whose score is most decreased when the feature is permuted, indicating high relevance for prediction of the target. For our California Housing model, the *median income in a block group* seems to have the highest impact on the model performance. Permuting this feature leads to a $R^2$ score decrease of > 0.8. When comparing it to the baseline $R^2$ score of 0.8, we notice that permuting the *median income* feature leads to a model with $R^2$ score < 0, i.e. a model that is worse than a constant model that always predicts the average target value disregarding the input features.\n",
    "\n",
    "We are not restricted to obtain feature importances of the same data set that we used to train the model. Instead we could use the same approach to identify the most important features in the test set."
   ]
  },
  {
   "cell_type": "code",
   "execution_count": 15,
   "id": "da7b4169",
   "metadata": {},
   "outputs": [
    {
     "data": {
      "image/png": "[encoded data removed]",
      "text/plain": [
       "<Figure size 1000x400 with 2 Axes>"
      ]
     },
     "metadata": {},
     "output_type": "display_data"
    }
   ],
   "source": [
    "explanation_test = permutation_importance(\n",
    "    pipe,\n",
    "    X=X_test,\n",
    "    y=y_test,\n",
    "    n_repeats=20,\n",
    "    random_state=seed,\n",
    "    scoring=scorer)\n",
    "\n",
    "explanation_test[\"feature\"] = X_test.columns\n",
    "\n",
    "plot_permutation_feature_importance_with_variance(explanation_test, X_test, 'Permutation Feature Importance on Test Data for California Housing Model')"
   ]
  },
  {
   "cell_type": "markdown",
   "id": "48da5fc1",
   "metadata": {
    "cell_marker": "'''"
   },
   "source": [
    "It seems that for both datasets, largely the same features are identified as important, which is reassuring.\n",
    "**Note:** this agreement of important features between training and testing datasets is not guaranteed. In such cases, it is not straightforward to decide on the \"truly important\" features for the model."
   ]
  },
  {
   "cell_type": "markdown",
   "id": "7f65eb61",
   "metadata": {},
   "source": [
    "\n",
    "<font color='green'>\n",
    "\n",
    "#### Question 1: What is achieved by permuting feature values?\n",
    "\n",
    "<font color='grey'>\n",
    "\n",
    "#### Your Answer: \n",
    "\n",
    "The existing relation between target and the feature are destroyed by randomly assigning new values to the given labels, making it impossible for the model to draw any conclusion from this feature to predict the label.\n",
    "\n",
    "<font color='green'>\n",
    "\n",
    "#### Question 2: Would it also be a good idea to permute the target instead of the features?\n",
    "\n",
    "<font color='grey'>\n",
    "\n",
    "#### Your Answer: \n",
    "\n",
    "No since we could not measure an effect for each feature anymore.\n",
    "\n",
    "<font color='green'>\n",
    "\n",
    "#### Question 3: How should the output of permutation importance for a single feature be interpreted?\n",
    "\n",
    "<font color='grey'>\n",
    "\n",
    "#### Your Answer: \n",
    "\n",
    "It is the (average over multiple permutations) decrease of a performance measure compared to a model that did not have the feature permuted.\n",
    "\n",
    "<font color='green'>\n",
    "\n",
    "#### Question 4: What does a negative importance value mean?\n",
    "\n",
    "<font color='grey'>\n",
    "\n",
    "#### Your Answer: \n",
    "\n",
    "This means that permuting the feature increases the performance of the model. Then it might be advisable to consider removing the feature and to retrain the model.\n",
    "\n",
    "<font color='green'>\n",
    "\n",
    "#### Question 5: Why don't we leave out a feature instead of permuting it to measure its importance?\n",
    "\n",
    "<font color='grey'>\n",
    "\n",
    "#### Your Answer: \n",
    "\n",
    "Leaving out the feature would require training a second model with less input features, which then would make the comparison harder.\n"
   ]
  },
  {
   "cell_type": "markdown",
   "id": "53a7db12",
   "metadata": {},
   "source": [
    "## Extra Material: Dealing with correlated features"
   ]
  },
  {
   "cell_type": "markdown",
   "id": "3fdb13b6",
   "metadata": {
    "cell_marker": "'''"
   },
   "source": [
    "In the video you already learned that applying permutation importance to datasets that contain correlated features can be problematic in various ways.\n",
    "This is also emphasized in the [scikit_learn documentation](https://scikit-learn.org/stable/modules/permutation_importance.html#permutation-importance):\n",
    "\n",
    "\"*When two features are correlated and one of the features is permuted, the model will still have access to the feature through its correlated feature. This will result in a lower importance value for both features, where they might actually be important.*\"\n",
    "\n",
    "But this is not the only effect that can occur. Below we will see an example where importance is attributed to a feature which is completely unrelated to the target variable because of its correlation to an actually important feature."
   ]
  },
  {
   "cell_type": "markdown",
   "id": "31d6d3eb",
   "metadata": {
    "cell_marker": "'''"
   },
   "source": [
    "Let's create toy data of multiple features of which the first two are highly correlated but only one\n",
    "of them will be used for computing our target."
   ]
  },
  {
   "cell_type": "code",
   "execution_count": 16,
   "id": "2fad98a4",
   "metadata": {},
   "outputs": [],
   "source": [
    "# create toy features\n",
    "np.random.seed(seed)\n",
    "\n",
    "corr1 = 0.95\n",
    "n_vars = 5\n",
    "\n",
    "means = np.array([i*5 for i in range(n_vars)])\n",
    "cov = np.diag(np.ones(n_vars))\n",
    "cov[0, 1] = corr1\n",
    "cov[1, 0] = corr1\n",
    "\n",
    "features = np.random.multivariate_normal(means, cov, size=2000)\n",
    "features = pd.DataFrame(features)\n",
    "features.columns = ['feature_1','feature_2','feature_3','feature_4','feature_5']"
   ]
  },
  {
   "cell_type": "markdown",
   "id": "74f11cdc",
   "metadata": {},
   "source": [
    "Now lets create a target variable that is computed from all features BUT feature 1, which is highly correlated to feature 2."
   ]
  },
  {
   "cell_type": "code",
   "execution_count": 17,
   "id": "2025eac1",
   "metadata": {},
   "outputs": [],
   "source": [
    "# compute target from four features and add noise\n",
    "np.random.seed(seed)\n",
    "target_clean = 1.e-1 * np.exp(features.iloc[:, 1]) * 0.3 * np.sin(features.iloc[:, 2]) + 0.5 * np.sin(features.iloc[:, 3]) + 0.1 * np.cos(features.iloc[:, 4])\n",
    "target = target_clean + .02 * np.random.normal(0, 1, size=len(target_clean))"
   ]
  },
  {
   "cell_type": "markdown",
   "id": "d74933d2",
   "metadata": {},
   "source": [
    "As we can see in the plot below, feature 1 and feature 2 are highly correlated, while the remaining feature show no correlation amongst each other.  \n",
    "In addition, from the features that were used to create the target variable, feature 2 and feature 3 correlate with the target variable."
   ]
  },
  {
   "cell_type": "code",
   "execution_count": 18,
   "id": "f59dc222",
   "metadata": {},
   "outputs": [
    {
     "data": {
      "image/png": "[encoded data removed]",
      "text/plain": [
       "<Figure size 500x500 with 2 Axes>"
      ]
     },
     "metadata": {},
     "output_type": "display_data"
    }
   ],
   "source": [
    "df = features.copy()\n",
    "df['target'] = target\n",
    "plot_correlation_matrix(df)"
   ]
  },
  {
   "cell_type": "markdown",
   "id": "94c7c9e5",
   "metadata": {},
   "source": [
    "Let's now see how the correlation between feature 1, which was not used to compute the target variable, and feature 2 influences the Permutation Feature Importance! Therefore, we train a model on all features and calculate the feature importance. "
   ]
  },
  {
   "cell_type": "code",
   "execution_count": 19,
   "id": "deb3d8b3",
   "metadata": {},
   "outputs": [
    {
     "name": "stdout",
     "output_type": "stream",
     "text": [
      "Model Performance on training data: 0.9534265077482174\n",
      "Model Performance on test data: 0.5588196583491317\n"
     ]
    },
    {
     "data": {
      "image/png": "[encoded data removed]",
      "text/plain": [
       "<Figure size 400x400 with 1 Axes>"
      ]
     },
     "metadata": {},
     "output_type": "display_data"
    }
   ],
   "source": [
    "# split data into training and test data, then train model on training data\n",
    "x_train, x_test, y_train, y_test = train_test_split(features, target, random_state=seed, train_size=0.6)\n",
    "pipe = Pipeline([\n",
    "    (\"preprocessing\", StandardScaler()),\n",
    "    (\"model\", KernelRidge(kernel=\"rbf\"))\n",
    "])\n",
    "pipe.fit(x_train, y_train)\n",
    "\n",
    "# model performance on training and test data\n",
    "print('Model Performance on training data: {}'.format(pipe.score(x_train, y_train)))\n",
    "print('Model Performance on test data: {}'.format(pipe.score(x_test, y_test)))\n",
    "\n",
    "# Now back to obtaining importances\n",
    "explanation_train = permutation_importance(\n",
    "    pipe,\n",
    "    X=x_train,\n",
    "    y=y_train,\n",
    "    n_repeats=10,\n",
    "    random_state=seed,\n",
    "    scoring=scorer)\n",
    "\n",
    "explanation_train[\"feature\"] = x_train.columns\n",
    "\n",
    "plot_permutation_feature_importance(explanation_train, x_train, 'Permutation Feature Importance for Full Model')"
   ]
  },
  {
   "cell_type": "markdown",
   "id": "763e16b9",
   "metadata": {},
   "source": [
    "Next, we remove the highly correlated feature 1, retrain the model and calculate the feature importance. Removing feature 1 should not have a great impact on the model since it was not used to create the target variable."
   ]
  },
  {
   "cell_type": "code",
   "execution_count": 20,
   "id": "a193608f",
   "metadata": {},
   "outputs": [
    {
     "name": "stdout",
     "output_type": "stream",
     "text": [
      "Model Performance on training data: 0.9562840015862645\n",
      "Model Performance on test data: 0.6083971437705138\n"
     ]
    },
    {
     "data": {
      "image/png": "[encoded data removed]",
      "text/plain": [
       "<Figure size 400x400 with 1 Axes>"
      ]
     },
     "metadata": {},
     "output_type": "display_data"
    }
   ],
   "source": [
    "# drop correlated feature 1\n",
    "features.drop('feature_1', axis=1, inplace=True)\n",
    "\n",
    "# split data into training and test data, then train model on training data\n",
    "x_train, x_test, y_train, y_test = train_test_split(features, target, random_state=seed, train_size=0.6)\n",
    "pipe.fit(x_train, y_train)\n",
    "\n",
    "# model performance on training and test data\n",
    "print('Model Performance on training data: {}'.format(pipe.score(x_train, y_train)))\n",
    "print('Model Performance on test data: {}'.format(pipe.score(x_test, y_test)))\n",
    "\n",
    "# Now back to obtaining importances\n",
    "explanation_train = permutation_importance(\n",
    "    pipe,\n",
    "    X=x_train,\n",
    "    y=y_train,\n",
    "    n_repeats=10,\n",
    "    random_state=seed,\n",
    "    scoring=scorer)\n",
    "\n",
    "explanation_train[\"feature\"] = x_train.columns\n",
    "\n",
    "plot_permutation_feature_importance(explanation_train, x_train, 'Permutation Feature Importance for Reduced Model')"
   ]
  },
  {
   "cell_type": "markdown",
   "id": "21daa328",
   "metadata": {},
   "source": [
    "As can be seen from above, the model performance does not change when removing feature 1 from the dataset, which indicated that both models are comparable.  \n",
    "However, if we look at the feature importance of the full model, we can see that the importance is split between the correlated feature 1 and feature 2. Even though the data we simulated does not depend on feature 1, the model still assigns quite high importance to this feature as well, due to its high correlation with feature 2, which can lead to wrong conclusions during model interpretation! If we compare the feature importance of the full model to the one where we removed feature 1, we can see that the importance of feature 2 increases, although the importance of the remaining features stays the same. This illustrates why you have to be careful when using Permutation Feature Importance for models that were trained on datasets with high feature correlations!"
   ]
  }
 ],
 "metadata": {
  "jupytext": {
   "formats": "ipynb,py:percent"
  },
  "kernelspec": {
   "display_name": "zero2hero",
   "language": "python",
   "name": "zero2hero"
  },
  "language_info": {
   "codemirror_mode": {
    "name": "ipython",
    "version": 3
   },
   "file_extension": ".py",
   "mimetype": "text/x-python",
   "name": "python",
   "nbconvert_exporter": "python",
   "pygments_lexer": "ipython3",
   "version": "3.8.13"
  },
  "vscode": {
   "interpreter": {
    "hash": "aee8b7b246df8f9039afb4144a1f6fd8d2ca17a180786b69acc140d282b71a49"
   }
  }
 },
 "nbformat": 4,
 "nbformat_minor": 5
}
