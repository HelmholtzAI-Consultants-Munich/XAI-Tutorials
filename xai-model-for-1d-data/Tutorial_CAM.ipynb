{
 "cells": [
  {
   "cell_type": "markdown",
   "metadata": {},
   "source": [
    "![logo](https://github.com/donatellacea/DL_tutorials/blob/main/notebooks/figures/1128-191-max.png?raw=true)"
   ]
  },
  {
   "cell_type": "markdown",
   "metadata": {},
   "source": [
    "# XAI in Deep Learning-Based Signal Analysis: The Class Activation Map (CAM)"
   ]
  },
  {
   "cell_type": "markdown",
   "metadata": {},
   "source": [
    "In this Notebook, we will delve into the utilization of CAM to reveal the sections of a signal that a ResNet-50 model trained on signal data considers crucial during its prediction process."
   ]
  },
  {
   "cell_type": "markdown",
   "metadata": {},
   "source": [
    "### Imports\n",
    "\n",
    "Let's start with importing all required Python packages."
   ]
  },
  {
   "cell_type": "code",
   "execution_count": 3,
   "metadata": {},
   "outputs": [],
   "source": [
    "%matplotlib inline\n",
    "import sys \n",
    "import math\n",
    "import cv2\n",
    "import numpy as np\n",
    "import matplotlib.pyplot as plt\n",
    "import torch\n",
    "import torch.nn as nn\n",
    "\n",
    "\n",
    "sys.path.append('../xai-model-specific/cnn_classification')\n",
    "from model import ResNet, ResNetBlock\n",
    "from dataset import ECG"
   ]
  },
  {
   "cell_type": "markdown",
   "metadata": {},
   "source": [
    "We fix the random seeds to ensure reproducible results, as we work with (pseudo) random numbers."
   ]
  },
  {
   "cell_type": "code",
   "execution_count": 4,
   "metadata": {},
   "outputs": [
    {
     "data": {
      "text/plain": [
       "<torch._C.Generator at 0x14a0de8099d0>"
      ]
     },
     "execution_count": 4,
     "metadata": {},
     "output_type": "execute_result"
    }
   ],
   "source": [
    "# assert reproducible random number generation\n",
    "seed = 1\n",
    "np.random.seed(seed)\n",
    "torch.manual_seed(seed)"
   ]
  },
  {
   "cell_type": "markdown",
   "metadata": {},
   "source": [
    "Let's set some paths for the weights of the model and the location of the data"
   ]
  },
  {
   "cell_type": "code",
   "execution_count": 12,
   "metadata": {},
   "outputs": [],
   "source": [
    "model_weights_path = '../xai-model-specific/cnn_classification/weights/model_weights9.pth'\n",
    "test_data_path = '../xai-model-specific/archive-4/mitbih_test.csv'"
   ]
  },
  {
   "cell_type": "markdown",
   "metadata": {},
   "source": [
    "We have trained a ResNet-50 model for 10 epochs on the Electrocardiogram (ECG) Heartbeat Categorization Dataset. The ResNet-50 uses conv1d layers instead of conv2d layers. \n",
    "\n",
    "The dataset is made up of two groups of heartbeat signals, originating from two well-known heartbeat classification datasets - the MIT-BIH Arrhythmia Dataset and The PTB Diagnostic ECG Database. We used the MIT-BIH Arrhythmia Dataset to train our model. This dataset consists of 87554 samples for train, 21892 samples for test, and 5 categories (['N': 0, 'S': 1, 'V': 2, 'F': 3, 'Q': 4])\n",
    "\n",
    "The dataset is organized in CSV files. Inside every CSV file, there's a matrix structure. Each row in the matrix signifies an individual ECG signal instance. The last column in each row determines the specific category the example belongs to."
   ]
  },
  {
   "cell_type": "markdown",
   "metadata": {},
   "source": [
    "Let's load the model."
   ]
  },
  {
   "cell_type": "code",
   "execution_count": 13,
   "metadata": {},
   "outputs": [
    {
     "data": {
      "text/plain": [
       "<All keys matched successfully>"
      ]
     },
     "execution_count": 13,
     "metadata": {},
     "output_type": "execute_result"
    }
   ],
   "source": [
    "device = torch.device(\"cuda\" if torch.cuda.is_available() else \"cpu\")\n",
    "\n",
    "model = ResNet(ResNetBlock, [2, 2, 2, 2], num_classes=5)\n",
    "model = model.to(device)\n",
    "model.load_state_dict(torch.load(model_weights_path, map_location=torch.device(device=device)))"
   ]
  },
  {
   "cell_type": "markdown",
   "metadata": {},
   "source": [
    "We have created an ECG class that load the dataset."
   ]
  },
  {
   "cell_type": "code",
   "execution_count": 14,
   "metadata": {},
   "outputs": [],
   "source": [
    "ecg = ECG(test_data_path)"
   ]
  },
  {
   "cell_type": "markdown",
   "metadata": {},
   "source": [
    "## How to Get CAM\n",
    "\n",
    "- Every unit in this GAP layer is multiplied by its associated feature map. \n",
    "- The weighted feature maps are combined to produce a Class Activation Map (CAM). \n",
    "- We then nornalize the produced CAM.\n",
    "\n",
    "CAM = Σ_k (w_k * A_k)"
   ]
  },
  {
   "cell_type": "code",
   "execution_count": null,
   "metadata": {},
   "outputs": [],
   "source": [
    "def return_cam(model, x, label):\n",
    "    feature_map = x.detach().clone()\n",
    "    cam_weights = model.fc.weight[label]\n",
    "    cams = (cam_weights.view(*feature_map.shape[:2], 1) *\n",
    "    feature_map).mean(1, keepdim=False)\n",
    "    return logits, cams"
   ]
  },
  {
   "cell_type": "code",
   "execution_count": 5,
   "metadata": {},
   "outputs": [],
   "source": [
    "def normalize_scoremap(cam):\n",
    "    if np.isnan(cam).any():\n",
    "        return np.zeros_like(cam)\n",
    "    if cam.min() == cam.max():\n",
    "        return np.zeros_like(cam)\n",
    "\n",
    "    cam -= cam.min()\n",
    "    cam /= cam.max()\n",
    "#     cam -= cam.mean()\n",
    "#     cam /= cam.std()\n",
    "    return cam\n",
    "\n",
    "#%% # Get the numpy array of a tensor\n",
    "def t2n(t):\n",
    "    return t.detach().cpu().numpy().astype(float)\n",
    "\n",
    "def n2t(n):\n",
    "    return torch.from_numpy(n).float()\n",
    "\n",
    "#%% # Generate the CAM\n",
    "def compute_cams(model, X_test, y_test, device, height=1, width=10000):\n",
    "    # model = return_model(\"ResNet\")\n",
    "    h, w = height, width\n",
    "    \n",
    "    # Get the logits as well as the CAM for a specific sample\n",
    "    x, cams = model(torch.unsqueeze(X_test,0).to(device), torch.from_numpy(np.asarray(y_test)).to(device), True)\n",
    "    \n",
    "    x = nn.Softmax(dim=-1)(x)\n",
    "\n",
    "    cams = t2n(cams)\n",
    "\n",
    "    # Resize the CAM to the same size of the original signal and normalize the values\n",
    "    cam_resized = cv2.resize(cams, (h, w), interpolation=cv2.INTER_CUBIC)\n",
    "    cam_normalized = normalize_scoremap(cam_resized)  \n",
    "\n",
    "    # Return the normalized CAM and a bool if the predicted label is correct or not \n",
    "    return cam_normalized, torch.argmax(x) == y_test "
   ]
  },
  {
   "cell_type": "code",
   "execution_count": 24,
   "metadata": {},
   "outputs": [],
   "source": [
    "def plot_maps(value):\n",
    "    fig, axs = plt.subplots(figsize=(15,5))\n",
    "    # data_name = key\n",
    "    cam = value[0]\n",
    "    # print(\"value\", signal.shape)\n",
    "    signal = value[-1][-1]\n",
    "    pcm = axs.imshow(cam, cmap='Reds',  aspect=\"auto\", \\\n",
    "        extent=[0, len(signal), math.floor(signal.min()), math.ceil(signal.max())], alpha=1.0)\n",
    "    # axs.set_title(data_name)\n",
    "    axs.plot(signal, 'k')\n",
    "    fig.colorbar(pcm, ax=axs, shrink=0.6)#\n",
    "    # plt.savefig(os.path.join(folder,'cam'+str(i)+'.png'))\n",
    "    # plt.close(fig) \n",
    "    plt.show()"
   ]
  },
  {
   "cell_type": "code",
   "execution_count": 26,
   "metadata": {},
   "outputs": [
    {
     "name": "stdout",
     "output_type": "stream",
     "text": [
      "cam (1, 187)\n"
     ]
    },
    {
     "data": {
      "image/png": "[encoded data removed]",
      "text/plain": [
       "<Figure size 1500x500 with 2 Axes>"
      ]
     },
     "metadata": {},
     "output_type": "display_data"
    }
   ],
   "source": [
    "device = torch.device(\"cuda\" if torch.cuda.is_available() else \"cpu\")\n",
    "model = ResNet(ResNetBlock, [2, 2, 2, 2], num_classes=5)\n",
    "model = model.to(device)\n",
    "i = 0\n",
    "model.load_state_dict(torch.load(\"../xai-model-specific/cnn_classification/weights/model_weights9.pth\", map_location=torch.device(device=device)))\n",
    "#%%\n",
    "ecg = ECG(\"/p/project/training2324/benassou1/XAI-Tutorials/xai-model-specific/archive-4/mitbih_test.csv\")\n",
    "\n",
    "ecg0 = ecg[i]\n",
    "ecg_h = ecg0[0].shape[-1]\n",
    "ecg_w = ecg0[0].shape[0]\n",
    "#%%\n",
    "# trainloader = DataLoader(ecg, batch_size=4, shuffle=False, num_workers=90)\n",
    "\n",
    "cam, output = compute_cams(model, ecg0[0], ecg0[-1], device=device, height=ecg_h, width=ecg_w)\n",
    "print(\"cam\", cam.shape)\n",
    "plot_maps([cam, ecg0[0]], \"test\", i)"
   ]
  },
  {
   "cell_type": "code",
   "execution_count": null,
   "metadata": {},
   "outputs": [],
   "source": []
  }
 ],
 "metadata": {
  "kernelspec": {
   "display_name": "Python 3",
   "language": "python",
   "name": "python3"
  },
  "language_info": {
   "codemirror_mode": {
    "name": "ipython",
    "version": 3
   },
   "file_extension": ".py",
   "mimetype": "text/x-python",
   "name": "python",
   "nbconvert_exporter": "python",
   "pygments_lexer": "ipython3",
   "version": "3.10.4"
  }
 },
 "nbformat": 4,
 "nbformat_minor": 2
}
