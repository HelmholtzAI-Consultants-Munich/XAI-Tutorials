{
 "cells": [
  {
   "cell_type": "markdown",
   "metadata": {},
   "source": [
    "![logo](https://github.com/HelmholtzAI-Consultants-Munich/XAI-Tutorials/blob/main/docs/source/_figures/Helmholtz-AI.png?raw=true)"
   ]
  },
  {
   "cell_type": "markdown",
   "metadata": {},
   "source": [
    "# XAI for Transformers: Attention Maps for Text"
   ]
  },
  {
   "cell_type": "markdown",
   "metadata": {},
   "source": [
    "This Notebook shows how to produce attention maps for textual data. \n",
    "\n",
    "--------"
   ]
  },
  {
   "cell_type": "markdown",
   "metadata": {},
   "source": [
    "## Getting Started\n",
    "\n",
    "### Setup Colab environment\n",
    "\n",
    "If you installed the packages and requirements on your machine, you can skip this section and start from the import section.\n",
    "Otherwise, you can follow and execute the tutorial on your browser. To start working on the notebook, click on the following button. This will open this page in the Colab environment, and you will be able to execute the code on your own.\n",
    "\n",
    "<a href=\"https://colab.research.google.com/github/HelmholtzAI-Consultants-Munich/XAI-Tutorials/blob/main/xai-for-transformer/2-Tutorial_AttentionMaps_Text.ipynb\" target=\"_parent\"><img src=\"https://colab.research.google.com/assets/colab-badge.svg\" alt=\"Open In Colab\"/></a>"
   ]
  },
  {
   "cell_type": "markdown",
   "metadata": {},
   "source": [
    "Now that you opened the notebook in Google Colab follow the next step:\n",
    "\n",
    "1. Run this cell to connect your Google Drive to Colab and install packages\n",
    "2. Allow this notebook to access your Google Drive files. Click on 'Yes', and select your account.\n",
    "3. \"Google Drive for desktop wants to access your Google Account\". Click on 'Allow'.\n",
    "   \n",
    "A folder has been created in your Drive, and you can navigate it through the lefthand panel in Colab. You might also receive an email that informs you about the access on your Google Drive."
   ]
  },
  {
   "cell_type": "code",
   "execution_count": 12,
   "metadata": {},
   "outputs": [],
   "source": [
    "# Mount drive folder to dbe abale to download repo\n",
    "# from google.colab import drive\n",
    "# drive.mount('/content/drive')\n",
    "\n",
    "# Switch to correct folder'\n",
    "# %cd /content/drive/MyDrive"
   ]
  },
  {
   "cell_type": "code",
   "execution_count": 13,
   "metadata": {},
   "outputs": [],
   "source": [
    "# Don't run this cell if you already cloned the repo \n",
    "# %rm -r XAI-Tutorials\n",
    "# !git clone --branch main https://github.com/HelmholtzAI-Consultants-Munich/XAI-Tutorials.git"
   ]
  },
  {
   "cell_type": "code",
   "execution_count": 14,
   "metadata": {},
   "outputs": [],
   "source": [
    "# Install al required dependencies and package versions\n",
    "# %cd XAI-Tutorials\n",
    "# !pip install -r requirements_xai-for-transformer.txt\n",
    "# %cd xai-for-transformer"
   ]
  },
  {
   "cell_type": "markdown",
   "metadata": {},
   "source": [
    "### Imports"
   ]
  },
  {
   "cell_type": "code",
   "execution_count": 15,
   "metadata": {},
   "outputs": [],
   "source": [
    "import torch\n",
    "from transformers import AutoTokenizer, AutoModelForSeq2SeqLM\n",
    "\n",
    "import zipfile\n",
    "import requests\n",
    "\n",
    "import sys  \n",
    "sys.path.append('./')\n",
    "import utils\n",
    "\n",
    "%matplotlib inline"
   ]
  },
  {
   "cell_type": "markdown",
   "metadata": {},
   "source": [
    "---"
   ]
  },
  {
   "cell_type": "markdown",
   "metadata": {},
   "source": [
    "## Model Laoding\n",
    "\n",
    "In the notebook [*1-Tutorial_Transformer_Model.ipynb*](./1-Tutorial_Transformer_Model.ipynb) we have fine-tuned a Seq2Seq model using the huggingface library to translate English to German.  \n",
    "Since the fine-tuning takes some time, we will instead load the fine-tuned model with it's tokenizer and saved model weights.  \n",
    "Therefore, please download the model weights folder and unzip it using the code below."
   ]
  },
  {
   "cell_type": "code",
   "execution_count": 16,
   "metadata": {},
   "outputs": [],
   "source": [
    "url = \"https://github.com/HelmholtzAI-Consultants-Munich/XAI-Tutorials/releases/download/v1.0.0/t5_small_weights.zip\"\n",
    "with open(\"../data/t5_small_weights.zip\", \"wb\") as f:\n",
    "    f.write(requests.get(url).content)"
   ]
  },
  {
   "cell_type": "code",
   "execution_count": 17,
   "metadata": {},
   "outputs": [],
   "source": [
    "with zipfile.ZipFile(\"../data/t5_small_weights.zip\", 'r') as zip_ref:\n",
    "    zip_ref.extractall(\"../data/\")"
   ]
  },
  {
   "cell_type": "markdown",
   "metadata": {},
   "source": [
    "Once we downloaded the model weights, we set the path to the model weights folder and load the pre-trained model and tokenizer."
   ]
  },
  {
   "cell_type": "code",
   "execution_count": 18,
   "metadata": {},
   "outputs": [],
   "source": [
    "weights_path = \"../data/t5_small_weights\""
   ]
  },
  {
   "cell_type": "code",
   "execution_count": 19,
   "metadata": {},
   "outputs": [],
   "source": [
    "model = AutoModelForSeq2SeqLM.from_pretrained(weights_path)\n",
    "tokenizer = AutoTokenizer.from_pretrained(weights_path)"
   ]
  },
  {
   "cell_type": "markdown",
   "metadata": {},
   "source": [
    "Now let's translate a sentence from English to German: "
   ]
  },
  {
   "cell_type": "code",
   "execution_count": 20,
   "metadata": {},
   "outputs": [],
   "source": [
    "text = \"Translate from English to German: I want to go to the cinema.\""
   ]
  },
  {
   "cell_type": "markdown",
   "metadata": {},
   "source": [
    "Let's generate the tokens for the input."
   ]
  },
  {
   "cell_type": "code",
   "execution_count": 21,
   "metadata": {},
   "outputs": [
    {
     "data": {
      "text/plain": [
       "{'input_ids': tensor([[30355,    15,    45,  1566,    12,  2968,    10,    27,   241,    12,\n",
       "           281,    12,     8, 10276,     5,     1]]), 'attention_mask': tensor([[1, 1, 1, 1, 1, 1, 1, 1, 1, 1, 1, 1, 1, 1, 1, 1]])}"
      ]
     },
     "execution_count": 21,
     "metadata": {},
     "output_type": "execute_result"
    }
   ],
   "source": [
    "inputs = tokenizer(text, return_tensors=\"pt\")\n",
    "inputs"
   ]
  },
  {
   "cell_type": "markdown",
   "metadata": {},
   "source": [
    "The `input` variable is a dictionary containing two keys, input_ids and attention_mask. input_ids contains two rows of integers (one for each sentence) that are the unique identifiers of the tokens in each sentence. The attention_mask is a tensor that indicates which tokens should be attended to and which should not. It is usually a sequence of 1s and 0s: a 1 for each real token in input_ids and a 0 for padding tokens (if any). This tells the model to pay attention to the input tokens and ignore the padding in cases where sequences are padded to a fixed length for batched processing.\n",
    "\n",
    "We generate the corresponding German translation of our English sentence. We can then generate the self-attention of the encoder, decoder, and cross attention."
   ]
  },
  {
   "cell_type": "code",
   "execution_count": 22,
   "metadata": {},
   "outputs": [],
   "source": [
    "output = model.generate(inputs.input_ids, max_new_tokens=40, do_sample=True, top_k=30, top_p=0.95)\n",
    "attention = model(**inputs, labels=output, output_attentions=True)\n",
    "\n",
    "cross_attention = attention.cross_attentions\n",
    "encoder_attention = attention.encoder_attentions\n",
    "decoder_attention = attention.decoder_attentions"
   ]
  },
  {
   "cell_type": "markdown",
   "metadata": {},
   "source": [
    "We can decode the input_ids of the input and output to generate their corresponding tokens "
   ]
  },
  {
   "cell_type": "code",
   "execution_count": 23,
   "metadata": {},
   "outputs": [
    {
     "data": {
      "text/plain": [
       "['▁Translat',\n",
       " 'e',\n",
       " '▁from',\n",
       " '▁English',\n",
       " '▁to',\n",
       " '▁German',\n",
       " ':',\n",
       " '▁I',\n",
       " '▁want',\n",
       " '▁to',\n",
       " '▁go',\n",
       " '▁to',\n",
       " '▁the',\n",
       " '▁cinema',\n",
       " '.',\n",
       " '</s>']"
      ]
     },
     "execution_count": 23,
     "metadata": {},
     "output_type": "execute_result"
    }
   ],
   "source": [
    "decoded_input = tokenizer.convert_ids_to_tokens(inputs[\"input_ids\"][0])\n",
    "decoded_input"
   ]
  },
  {
   "cell_type": "code",
   "execution_count": 24,
   "metadata": {},
   "outputs": [
    {
     "data": {
      "text/plain": [
       "['<pad>', '▁Ich', '▁will', '▁zum', '▁Kino', '▁', 'fahren', '.', '</s>']"
      ]
     },
     "execution_count": 24,
     "metadata": {},
     "output_type": "execute_result"
    }
   ],
   "source": [
    "decoded_output = tokenizer.convert_ids_to_tokens(output[0])\n",
    "decoded_output"
   ]
  },
  {
   "cell_type": "markdown",
   "metadata": {},
   "source": [
    "---"
   ]
  },
  {
   "cell_type": "markdown",
   "metadata": {},
   "source": [
    "## Attention Maps for Text Models\n",
    "\n",
    "Attention maps for text are visualizations that show how much focus a model places on different words or tokens in a sequence when making predictions. They highlight relationships between words by assigning attention weights, which indicate the importance of one word relative to others within the context of the task. Those attention weights can be generated from the self-attention or cross-attention mechanism.\n",
    "\n",
    "**Please visit our [Introduction to Attention Maps](https://xai-tutorials.readthedocs.io/en/latest/_model_specific_xai/am.html#) to get more theoretical background information on how Attention Maps are calculated for different data modalities.**\n",
    "\n",
    "***Note: we provide all references [here](https://xai-tutorials.readthedocs.io/en/latest/_model_specific_xai/am.html#references).***\n"
   ]
  },
  {
   "cell_type": "markdown",
   "metadata": {},
   "source": [
    "### Attention Maps from Self-Attention\n",
    "\n",
    "We can generate attention maps for the encoder or decoder side by averaging the heads of the last encoder/decoder layer and plot them.  \n",
    "In such plots, lighter squares indicate higher average attention weights, suggesting that the model is considering those input positions more when encoding the word for translation.  \n",
    "Darker squares, on the other hand, indicate lower average attention weights, suggesting that the model is less focused on those input positions when encoding the word.\n",
    "If you see a strong diagonal line of lighter squares, it means that words are mostly attending to themselves and their immediate neighbors, which is typical as words often have the most context with adjacent words.  \n",
    "\n",
    "Since this is the last encoder layer, the self-attention mechanism highlights how each word (or subword) in the input sequence attends to every other word (or subword). This is important for encoding the context around each word.  \n",
    "What information can you retrieve from the encoder self-attention map?"
   ]
  },
  {
   "cell_type": "code",
   "execution_count": 25,
   "metadata": {},
   "outputs": [
    {
     "name": "stderr",
     "output_type": "stream",
     "text": [
      "/Users/lisasousa/Desktop/XAI-Tutorials/xai-for-transformer/utils.py:36: UserWarning: set_ticklabels() should only be used with a fixed number of ticks, i.e. after set_ticks() or using a FixedLocator.\n",
      "  ax.set_xticklabels([\" \"] + input_sentence, rotation=90)\n",
      "/Users/lisasousa/Desktop/XAI-Tutorials/xai-for-transformer/utils.py:37: UserWarning: set_ticklabels() should only be used with a fixed number of ticks, i.e. after set_ticks() or using a FixedLocator.\n",
      "  ax.set_yticklabels([\" \"] + output_words)\n"
     ]
    },
    {
     "data": {
      "image/png": "[encoded data removed]",
      "text/plain": [
       "<Figure size 2000x500 with 2 Axes>"
      ]
     },
     "metadata": {},
     "output_type": "display_data"
    }
   ],
   "source": [
    "avg_encoder_attention = torch.stack(encoder_attention).mean(0).mean(1).squeeze(0)\n",
    "utils.showAttention(decoded_input, decoded_input, avg_encoder_attention)"
   ]
  },
  {
   "cell_type": "markdown",
   "metadata": {},
   "source": [
    "In the plot above, we can observe \n",
    "\n",
    "- **Off-Diagonal Attention**: Lighter squares away from the diagonal could indicate that the model is capturing long-range dependencies within the input sequence, which is crucial for understanding the full context of the sentence.\n",
    "- **Special Tokens**: Attention to special tokens like $<s>$ and $</s>$ can indicate how the model handles the beginning and end of the input sequence.\n",
    "- **Contextual Relationships**: By looking at which tokens have lighter squares in their row, you can infer which tokens are considered most important for understanding the context of other tokens."
   ]
  },
  {
   "cell_type": "markdown",
   "metadata": {},
   "source": [
    "We can generate the same plots for the decoder side, which allows us to understand how the model relates the different parts of the output sequence to each other.  \n",
    "What information can you retrieve from the decoder self-attention map?"
   ]
  },
  {
   "cell_type": "code",
   "execution_count": 26,
   "metadata": {},
   "outputs": [
    {
     "name": "stderr",
     "output_type": "stream",
     "text": [
      "/Users/lisasousa/Desktop/XAI-Tutorials/xai-for-transformer/utils.py:36: UserWarning: set_ticklabels() should only be used with a fixed number of ticks, i.e. after set_ticks() or using a FixedLocator.\n",
      "  ax.set_xticklabels([\" \"] + input_sentence, rotation=90)\n",
      "/Users/lisasousa/Desktop/XAI-Tutorials/xai-for-transformer/utils.py:37: UserWarning: set_ticklabels() should only be used with a fixed number of ticks, i.e. after set_ticks() or using a FixedLocator.\n",
      "  ax.set_yticklabels([\" \"] + output_words)\n"
     ]
    },
    {
     "data": {
      "image/png": "[encoded data removed]",
      "text/plain": [
       "<Figure size 2000x500 with 2 Axes>"
      ]
     },
     "metadata": {},
     "output_type": "display_data"
    }
   ],
   "source": [
    "avg_decoder_attention = torch.stack(decoder_attention).mean(0).mean(1).squeeze(0)\n",
    "utils.showAttention(decoded_output, decoded_output, avg_decoder_attention)"
   ]
  },
  {
   "cell_type": "markdown",
   "metadata": {},
   "source": [
    "### Attention Maps from Cross-Attention\n",
    "\n",
    "In cross-attention, the attention mechanism considers two different sequences. In our example, one sequence is the source sentence (the English sentence), and the other is the target sentence (the translated sentence).\n",
    "A cross-attention map visualizes how elements of one sequence (English sentence) are attended to when processing each element of the other sequence (say, the target sentence). In other words, how much did each input token contribute to generating each output token?\n",
    "\n",
    "To plot the cross attention, we average the heads of the last attention layer of the model and plot it."
   ]
  },
  {
   "cell_type": "code",
   "execution_count": 27,
   "metadata": {},
   "outputs": [
    {
     "name": "stderr",
     "output_type": "stream",
     "text": [
      "/Users/lisasousa/Desktop/XAI-Tutorials/xai-for-transformer/utils.py:36: UserWarning: set_ticklabels() should only be used with a fixed number of ticks, i.e. after set_ticks() or using a FixedLocator.\n",
      "  ax.set_xticklabels([\" \"] + input_sentence, rotation=90)\n",
      "/Users/lisasousa/Desktop/XAI-Tutorials/xai-for-transformer/utils.py:37: UserWarning: set_ticklabels() should only be used with a fixed number of ticks, i.e. after set_ticks() or using a FixedLocator.\n",
      "  ax.set_yticklabels([\" \"] + output_words)\n"
     ]
    },
    {
     "data": {
      "image/png": "[encoded data removed]",
      "text/plain": [
       "<Figure size 2000x500 with 2 Axes>"
      ]
     },
     "metadata": {},
     "output_type": "display_data"
    }
   ],
   "source": [
    "avg_attention = torch.stack(cross_attention).mean(0).mean(1).squeeze(0)\n",
    "utils.showAttention(decoded_input, decoded_output, avg_attention)"
   ]
  },
  {
   "cell_type": "markdown",
   "metadata": {},
   "source": [
    "In our example, you can see that there is a high attention between the tokens \"cinema\" and \"Kino\" and no attention between \"want\" and \"Kino\" for example."
   ]
  }
 ],
 "metadata": {
  "kernelspec": {
   "display_name": "xai",
   "language": "python",
   "name": "python3"
  },
  "language_info": {
   "codemirror_mode": {
    "name": "ipython",
    "version": 3
   },
   "file_extension": ".py",
   "mimetype": "text/x-python",
   "name": "python",
   "nbconvert_exporter": "python",
   "pygments_lexer": "ipython3",
   "version": "3.11.12"
  }
 },
 "nbformat": 4,
 "nbformat_minor": 4
}
